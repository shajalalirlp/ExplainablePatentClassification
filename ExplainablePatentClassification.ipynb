{
 "cells": [
  {
   "cell_type": "code",
   "execution_count": 1,
   "id": "3a955c27-154d-4a67-a086-64a199b3286a",
   "metadata": {
    "tags": []
   },
   "outputs": [
    {
     "name": "stderr",
     "output_type": "stream",
     "text": [
      "2023-06-05 07:46:43.918766: I tensorflow/core/platform/cpu_feature_guard.cc:182] This TensorFlow binary is optimized to use available CPU instructions in performance-critical operations.\n",
      "To enable the following instructions: AVX2 AVX512F FMA, in other operations, rebuild TensorFlow with the appropriate compiler flags.\n"
     ]
    }
   ],
   "source": [
    "from sklearn import model_selection, preprocessing, linear_model, naive_bayes, metrics, svm\n",
    "from sklearn.feature_extraction.text import TfidfVectorizer, CountVectorizer\n",
    "from sklearn import decomposition, ensemble\n",
    "\n",
    "import pandas, xgboost, numpy, textblob, string\n",
    "from keras.preprocessing import text, sequence\n",
    "from keras import layers, models, optimizers"
   ]
  },
  {
   "cell_type": "code",
   "execution_count": 2,
   "id": "2fb28b38-6b9a-40d4-ae0a-7bbf0bb737ce",
   "metadata": {
    "tags": []
   },
   "outputs": [],
   "source": [
    "from __future__ import print_function\n",
    "import numpy as np\n",
    "from numpy import newaxis as na\n",
    "import keras\n",
    "\n",
    "from keras.preprocessing import sequence\n",
    "from keras.models import Sequential\n",
    "from keras.layers import Dense, Dropout, Embedding, LSTM\n",
    "from keras.models import Model\n",
    "from keras import backend as K\n",
    "\n",
    "import matplotlib.pyplot as plt\n",
    "from IPython.display import display, HTML\n",
    "from sklearn import model_selection, preprocessing, linear_model, naive_bayes, metrics, svm\n",
    "from sklearn.feature_extraction.text import TfidfVectorizer, CountVectorizer\n",
    "from sklearn import decomposition, ensemble\n",
    "\n",
    "import pandas, xgboost, numpy, textblob, string\n",
    "from keras.preprocessing import text, sequence\n",
    "from keras import layers, models, optimizers"
   ]
  },
  {
   "cell_type": "code",
   "execution_count": 3,
   "id": "a9f9a5bc-a711-40d5-932c-262b619dd226",
   "metadata": {
    "tags": []
   },
   "outputs": [],
   "source": [
    "import os\n",
    "import sys\n",
    "from keras.preprocessing.text import Tokenizer\n",
    "from keras.utils import to_categorical\n",
    "#from keras.preprocessing.sequence import pad_sequences\n",
    "from keras.layers import Activation, Conv2D, Input, Embedding, Reshape,  MaxPool2D, Concatenate, Flatten, Dropout, Dense, Conv1D, MaxPool1D\n",
    "\n",
    "\n",
    "\n",
    "from keras.layers import TimeDistributed\n",
    "from keras.layers import Bidirectional\n",
    "\n",
    "from keras.layers import MaxPool1D\n",
    "from keras.models import Model\n",
    "from keras.callbacks import ModelCheckpoint\n",
    "from keras.optimizers import Adam\n",
    "import warnings\n",
    "warnings.filterwarnings('ignore')\n",
    "\n",
    "# preparing input to our mode\n",
    "#from keras.preprocessing.sequence import pad_sequences\n",
    "from keras.utils import pad_sequences\n",
    "\n",
    "from sklearn import model_selection"
   ]
  },
  {
   "cell_type": "code",
   "execution_count": 4,
   "id": "af3084bc-3763-4927-b679-3e8088ba7fdb",
   "metadata": {
    "tags": []
   },
   "outputs": [],
   "source": [
    "import numpy as np\n",
    "from itertools import permutations\n",
    "from sklearn.model_selection import train_test_split\n",
    "from sklearn.model_selection import GridSearchCV\n",
    "from sklearn.neighbors import KNeighborsClassifier\n",
    "from sklearn.tree import DecisionTreeClassifier\n",
    "from sklearn.ensemble import RandomForestClassifier\n",
    "from sklearn.linear_model import LogisticRegression\n",
    "from sklearn.svm import SVC\n",
    "from sklearn.neural_network import MLPClassifier\n",
    "from sklearn.ensemble import AdaBoostClassifier\n",
    "from sklearn.naive_bayes import GaussianNB\n",
    "from sklearn.ensemble import GradientBoostingClassifier\n",
    "from sklearn.ensemble import AdaBoostClassifier\n",
    "from sklearn.ensemble import VotingClassifier\n",
    "from sklearn.tree import DecisionTreeClassifier\n",
    "from lightgbm import LGBMClassifier\n",
    "from nltk.stem import PorterStemmer"
   ]
  },
  {
   "cell_type": "code",
   "execution_count": 5,
   "id": "0e55d612-7f4e-42da-ab9e-6d8407b83687",
   "metadata": {
    "tags": []
   },
   "outputs": [],
   "source": [
    "import sklearn\n",
    "from keras.initializers import Constant\n",
    "from keras.layers import *"
   ]
  },
  {
   "cell_type": "code",
   "execution_count": 6,
   "id": "e1437c17-4da4-483f-ba5d-d61a8f66b360",
   "metadata": {
    "tags": []
   },
   "outputs": [],
   "source": [
    "import pandas as pd\n",
    "train_df = pd.read_csv('Data/PatentData.csv')\n",
    "#test_df = pd.read_csv('Data/ccdv/test_processed.csv')\n",
    "#val_df = pd.read_csv('Data/ccdv/val_processed.csv')"
   ]
  },
  {
   "cell_type": "code",
   "execution_count": 7,
   "id": "5fb74aef-443d-443f-b923-f8b95f12708f",
   "metadata": {
    "tags": []
   },
   "outputs": [
    {
     "data": {
      "text/plain": [
       "(1372910, 5)"
      ]
     },
     "execution_count": 7,
     "metadata": {},
     "output_type": "execute_result"
    }
   ],
   "source": [
    "train_df.shape"
   ]
  },
  {
   "cell_type": "code",
   "execution_count": 8,
   "id": "a331a2e6-7c68-487a-813f-44cb9ebcad9b",
   "metadata": {
    "tags": []
   },
   "outputs": [],
   "source": [
    "train_df = train_df.head(100000)"
   ]
  },
  {
   "cell_type": "code",
   "execution_count": 9,
   "id": "14eb2296-e69c-48e0-8406-575095c14446",
   "metadata": {
    "tags": []
   },
   "outputs": [
    {
     "data": {
      "text/html": [
       "<div>\n",
       "<style scoped>\n",
       "    .dataframe tbody tr th:only-of-type {\n",
       "        vertical-align: middle;\n",
       "    }\n",
       "\n",
       "    .dataframe tbody tr th {\n",
       "        vertical-align: top;\n",
       "    }\n",
       "\n",
       "    .dataframe thead th {\n",
       "        text-align: right;\n",
       "    }\n",
       "</style>\n",
       "<table border=\"1\" class=\"dataframe\">\n",
       "  <thead>\n",
       "    <tr style=\"text-align: right;\">\n",
       "      <th></th>\n",
       "      <th>Unnamed: 0</th>\n",
       "      <th>id</th>\n",
       "      <th>date</th>\n",
       "      <th>text</th>\n",
       "      <th>class</th>\n",
       "    </tr>\n",
       "  </thead>\n",
       "  <tbody>\n",
       "    <tr>\n",
       "      <th>0</th>\n",
       "      <td>0</td>\n",
       "      <td>8788730</td>\n",
       "      <td>2014-07-22</td>\n",
       "      <td>1. A method for sending a keycode of a non-key...</td>\n",
       "      <td>8</td>\n",
       "    </tr>\n",
       "    <tr>\n",
       "      <th>1</th>\n",
       "      <td>1</td>\n",
       "      <td>8621421</td>\n",
       "      <td>2013-12-31</td>\n",
       "      <td>1. A method executed at least in part in a com...</td>\n",
       "      <td>7</td>\n",
       "    </tr>\n",
       "    <tr>\n",
       "      <th>2</th>\n",
       "      <td>2</td>\n",
       "      <td>9461433</td>\n",
       "      <td>2016-10-04</td>\n",
       "      <td>1. A light-emitting device comprising: a base;...</td>\n",
       "      <td>8</td>\n",
       "    </tr>\n",
       "    <tr>\n",
       "      <th>3</th>\n",
       "      <td>3</td>\n",
       "      <td>9229528</td>\n",
       "      <td>2016-01-05</td>\n",
       "      <td>1. An input apparatus, comprising: a plurality...</td>\n",
       "      <td>7</td>\n",
       "    </tr>\n",
       "    <tr>\n",
       "      <th>4</th>\n",
       "      <td>4</td>\n",
       "      <td>8508147</td>\n",
       "      <td>2013-08-13</td>\n",
       "      <td>1. A dimmer circuit, comprising: a bleeder as ...</td>\n",
       "      <td>8</td>\n",
       "    </tr>\n",
       "  </tbody>\n",
       "</table>\n",
       "</div>"
      ],
      "text/plain": [
       "   Unnamed: 0       id        date  \\\n",
       "0           0  8788730  2014-07-22   \n",
       "1           1  8621421  2013-12-31   \n",
       "2           2  9461433  2016-10-04   \n",
       "3           3  9229528  2016-01-05   \n",
       "4           4  8508147  2013-08-13   \n",
       "\n",
       "                                                text  class  \n",
       "0  1. A method for sending a keycode of a non-key...      8  \n",
       "1  1. A method executed at least in part in a com...      7  \n",
       "2  1. A light-emitting device comprising: a base;...      8  \n",
       "3  1. An input apparatus, comprising: a plurality...      7  \n",
       "4  1. A dimmer circuit, comprising: a bleeder as ...      8  "
      ]
     },
     "execution_count": 9,
     "metadata": {},
     "output_type": "execute_result"
    }
   ],
   "source": [
    "train_df.head()"
   ]
  },
  {
   "cell_type": "code",
   "execution_count": 10,
   "id": "7152eaf2-8f9f-4585-87ec-cf1747d161fb",
   "metadata": {
    "tags": []
   },
   "outputs": [],
   "source": [
    "train_df = train_df[['text','class']]\n",
    "#test_df = test_df[['abstract','class']]\n",
    "#val_df = test_df[['abstract','class']]"
   ]
  },
  {
   "cell_type": "code",
   "execution_count": 11,
   "id": "3cdefee5-f278-4a78-91fd-9a02cccecb91",
   "metadata": {
    "tags": []
   },
   "outputs": [
    {
     "data": {
      "text/html": [
       "<div>\n",
       "<style scoped>\n",
       "    .dataframe tbody tr th:only-of-type {\n",
       "        vertical-align: middle;\n",
       "    }\n",
       "\n",
       "    .dataframe tbody tr th {\n",
       "        vertical-align: top;\n",
       "    }\n",
       "\n",
       "    .dataframe thead th {\n",
       "        text-align: right;\n",
       "    }\n",
       "</style>\n",
       "<table border=\"1\" class=\"dataframe\">\n",
       "  <thead>\n",
       "    <tr style=\"text-align: right;\">\n",
       "      <th></th>\n",
       "      <th>text</th>\n",
       "      <th>class</th>\n",
       "    </tr>\n",
       "  </thead>\n",
       "  <tbody>\n",
       "    <tr>\n",
       "      <th>0</th>\n",
       "      <td>1. A method for sending a keycode of a non-key...</td>\n",
       "      <td>8</td>\n",
       "    </tr>\n",
       "    <tr>\n",
       "      <th>1</th>\n",
       "      <td>1. A method executed at least in part in a com...</td>\n",
       "      <td>7</td>\n",
       "    </tr>\n",
       "    <tr>\n",
       "      <th>2</th>\n",
       "      <td>1. A light-emitting device comprising: a base;...</td>\n",
       "      <td>8</td>\n",
       "    </tr>\n",
       "    <tr>\n",
       "      <th>3</th>\n",
       "      <td>1. An input apparatus, comprising: a plurality...</td>\n",
       "      <td>7</td>\n",
       "    </tr>\n",
       "    <tr>\n",
       "      <th>4</th>\n",
       "      <td>1. A dimmer circuit, comprising: a bleeder as ...</td>\n",
       "      <td>8</td>\n",
       "    </tr>\n",
       "  </tbody>\n",
       "</table>\n",
       "</div>"
      ],
      "text/plain": [
       "                                                text  class\n",
       "0  1. A method for sending a keycode of a non-key...      8\n",
       "1  1. A method executed at least in part in a com...      7\n",
       "2  1. A light-emitting device comprising: a base;...      8\n",
       "3  1. An input apparatus, comprising: a plurality...      7\n",
       "4  1. A dimmer circuit, comprising: a bleeder as ...      8"
      ]
     },
     "execution_count": 11,
     "metadata": {},
     "output_type": "execute_result"
    }
   ],
   "source": [
    "train_df.head()"
   ]
  },
  {
   "cell_type": "code",
   "execution_count": 12,
   "id": "074ec17e-a68c-4b5a-803f-8facd616a8e9",
   "metadata": {
    "tags": []
   },
   "outputs": [
    {
     "data": {
      "text/plain": [
       "<Axes: >"
      ]
     },
     "execution_count": 12,
     "metadata": {},
     "output_type": "execute_result"
    },
    {
     "data": {
      "image/png": "[encoded data removed]",
      "text/plain": [
       "<Figure size 640x480 with 1 Axes>"
      ]
     },
     "metadata": {},
     "output_type": "display_data"
    }
   ],
   "source": [
    "train_df['class'].value_counts().plot(kind='barh')"
   ]
  },
  {
   "cell_type": "code",
   "execution_count": 13,
   "id": "862ad31d-4675-4386-b7e6-2cd9805c9e94",
   "metadata": {
    "tags": []
   },
   "outputs": [
    {
     "data": {
      "text/plain": [
       "\"\\ntrain_x = train_df['abstract']\\ntest_x = test_df['abstract']\\nvalid_x = val_df['abstract']\\nencoder = sklearn.preprocessing.LabelEncoder()\\ntrain_y = encoder.fit_transform(train_df['class'])\\ntest_y = encoder.fit_transform(test_df['class'])\\nvalid_y = encoder.fit_transform(val_df['class'])\\n\""
      ]
     },
     "execution_count": 13,
     "metadata": {},
     "output_type": "execute_result"
    }
   ],
   "source": [
    "'''\n",
    "train_x = train_df['abstract']\n",
    "test_x = test_df['abstract']\n",
    "valid_x = val_df['abstract']\n",
    "encoder = sklearn.preprocessing.LabelEncoder()\n",
    "train_y = encoder.fit_transform(train_df['class'])\n",
    "test_y = encoder.fit_transform(test_df['class'])\n",
    "valid_y = encoder.fit_transform(val_df['class'])\n",
    "'''"
   ]
  },
  {
   "cell_type": "code",
   "execution_count": 14,
   "id": "36879ea6-5376-4dca-b7b0-87d6c7bc1bb0",
   "metadata": {
    "tags": []
   },
   "outputs": [],
   "source": [
    "\n",
    "import sklearn\n",
    "train_x, test_x, train_y, test_y = model_selection.train_test_split(train_df['text'], train_df['class'], test_size=0.20)\n",
    "train_x, valid_x, train_y, valid_y = model_selection.train_test_split(train_x, train_y, test_size=0.15)\n",
    "encoder = sklearn.preprocessing.LabelEncoder()\n",
    "train_y = encoder.fit_transform(train_y)\n",
    "valid_y = encoder.fit_transform(valid_y)\n",
    "test_y = encoder.fit_transform(test_y)\n"
   ]
  },
  {
   "cell_type": "code",
   "execution_count": 15,
   "id": "ea444085-2ad6-4f08-b6e1-884df8b88dff",
   "metadata": {
    "tags": []
   },
   "outputs": [],
   "source": [
    "max_features = 32000\n",
    "\n",
    "maxlen = 300\n",
    "batch_size = 32"
   ]
  },
  {
   "cell_type": "code",
   "execution_count": 16,
   "id": "adbaad46-6780-4ffd-9ce7-a8289b828e5f",
   "metadata": {
    "tags": []
   },
   "outputs": [],
   "source": [
    "tokenizer  = Tokenizer(num_words = max_features)\n",
    "tokenizer.fit_on_texts(train_x)\n",
    "\n",
    "train_seq =  tokenizer.texts_to_sequences(train_x)\n",
    "val_seq =  tokenizer.texts_to_sequences(valid_x)\n",
    "test_seq = tokenizer.texts_to_sequences(test_x)\n",
    "\n",
    "word_index = tokenizer.word_index\n",
    "\n",
    "train_x = pad_sequences(train_seq, maxlen=maxlen, dtype='int32', padding='post') #maxlen = maxlen, padding='post')\n",
    "valid_x = pad_sequences(val_seq, maxlen=maxlen, dtype='int32', padding='post') #maxlen = maxlen, padding='post')\n",
    "test_x = pad_sequences(test_seq, maxlen=maxlen, dtype='int32', padding='post') #maxlen = maxlen, padding='post')\n",
    "\n",
    "train_y = np.asarray(train_y)\n",
    "valid_y = np.asarray(valid_y)\n",
    "test_y = np.asarray(test_y)\n"
   ]
  },
  {
   "cell_type": "code",
   "execution_count": 17,
   "id": "cac7248d-0e34-4da8-8604-e8776d603a21",
   "metadata": {
    "tags": []
   },
   "outputs": [
    {
     "name": "stdout",
     "output_type": "stream",
     "text": [
      "Unique words : 53809\n",
      "Shape of training data tensor: (68000, 300)\n",
      "Shape of training label tensor: (68000,)\n",
      "Shape of val data tensor: (12000, 300)\n",
      "Shape of val label tensor: (12000,)\n",
      "Shape of test data tensor: (20000, 300)\n",
      "Shape of test label tensor: (20000,)\n"
     ]
    }
   ],
   "source": [
    "print(\"Unique words : {}\".format(len(word_index)))\n",
    "\n",
    "\n",
    "print('Shape of training data tensor:', train_x.shape)\n",
    "print('Shape of training label tensor:', train_y.shape)\n",
    "\n",
    "print('Shape of val data tensor:', valid_x.shape)\n",
    "print('Shape of val label tensor:', valid_y.shape)\n",
    "\n",
    "print('Shape of test data tensor:', test_x.shape)\n",
    "print('Shape of test label tensor:', test_y.shape)"
   ]
  },
  {
   "cell_type": "code",
   "execution_count": 18,
   "id": "aa87b331-6e03-459e-a64d-48a612f55f3b",
   "metadata": {
    "tags": []
   },
   "outputs": [],
   "source": [
    "from gensim.models.keyedvectors import KeyedVectors\n",
    "#from gensim.models import Word2Vec\n",
    "\n",
    "#word_vectors = Word2Vec.load('Data/embedding/wiki-news-300d-1M.vec')\n",
    "word_vectors = KeyedVectors.load_word2vec_format('Data/embedding/wiki-news-300d-1M.vec')\n",
    "#word_vectors = Word2Vec.load('./models/posts.bin')"
   ]
  },
  {
   "cell_type": "code",
   "execution_count": 19,
   "id": "ac828bd1-1af9-4773-88f3-a0923974a765",
   "metadata": {
    "tags": []
   },
   "outputs": [],
   "source": [
    "NUM_WORDS=93870\n",
    "EMBEDDING_DIM=300\n",
    "\n",
    "vocabulary_size=len(tokenizer.word_index)+1\n",
    "word_index=tokenizer.word_index\n",
    "embedding_matrix = np.zeros((vocabulary_size, EMBEDDING_DIM))\n",
    "\n",
    "for word, i in word_index.items():\n",
    "    if i>=NUM_WORDS:\n",
    "        continue\n",
    "    try:\n",
    "        embedding_vector=word_vectors[word]\n",
    "        embedding_matrix[i]=embedding_vector\n",
    "    except KeyError:\n",
    "        embedding_matrix[i]=np.random.normal(0,np.sqrt(0.25),EMBEDDING_DIM)\n",
    "\n",
    "del(word_vectors)"
   ]
  },
  {
   "cell_type": "code",
   "execution_count": 20,
   "id": "d06532d5-3ac4-4c1d-90a0-03495d778eb9",
   "metadata": {
    "tags": []
   },
   "outputs": [],
   "source": [
    "embedding_layer=Embedding(vocabulary_size, EMBEDDING_DIM, weights=[embedding_matrix],trainable=False)"
   ]
  },
  {
   "cell_type": "markdown",
   "id": "626f1135-48b8-4bff-9eed-03e5e2a5e93c",
   "metadata": {
    "tags": []
   },
   "source": [
    "# Bi-LSTM Model"
   ]
  },
  {
   "cell_type": "code",
   "execution_count": 21,
   "id": "a46b7642-a481-4dbe-b259-50dd837715ca",
   "metadata": {
    "tags": []
   },
   "outputs": [],
   "source": [
    "def BiLSTM_Model():\n",
    "    model = Sequential()\n",
    "    model.add(embedding_layer)\n",
    "    model.add(SpatialDropout1D(0.5))\n",
    "    model.add(Bidirectional(LSTM(64, return_sequences=True)))\n",
    "    model.add(Dropout(0.2))\n",
    "    model.add(Bidirectional(LSTM(32)))\n",
    "    #model.add(Dropout(0.2))\n",
    "    model.add(Dense(units=128, activation='relu'))\n",
    "    model.add(Dropout(0.25))\n",
    "    model.add(Dense(units=9, activation='softmax'))\n",
    "    model.compile(loss = 'sparse_categorical_crossentropy', optimizer='adam', metrics = ['accuracy'])\n",
    "    \n",
    "    print(model.summary())\n",
    "    \n",
    "    return model     "
   ]
  },
  {
   "cell_type": "code",
   "execution_count": 22,
   "id": "3b60ca79-c25c-4f6a-b6d8-a20373ef34d0",
   "metadata": {
    "tags": []
   },
   "outputs": [
    {
     "name": "stderr",
     "output_type": "stream",
     "text": [
      "2023-06-05 07:49:31.129110: I tensorflow/core/common_runtime/gpu/gpu_device.cc:1635] Created device /job:localhost/replica:0/task:0/device:GPU:0 with 30925 MB memory:  -> device: 0, name: Tesla V100-PCIE-32GB, pci bus id: 0000:25:00.0, compute capability: 7.0\n",
      "2023-06-05 07:49:32.201483: I tensorflow/core/common_runtime/executor.cc:1197] [/device:CPU:0] (DEBUG INFO) Executor start aborting (this does not indicate an error and you can ignore this message): INVALID_ARGUMENT: You must feed a value for placeholder tensor 'gradients/split_2_grad/concat/split_2/split_dim' with dtype int32\n",
      "\t [[{{node gradients/split_2_grad/concat/split_2/split_dim}}]]\n",
      "2023-06-05 07:49:32.202908: I tensorflow/core/common_runtime/executor.cc:1197] [/device:CPU:0] (DEBUG INFO) Executor start aborting (this does not indicate an error and you can ignore this message): INVALID_ARGUMENT: You must feed a value for placeholder tensor 'gradients/split_grad/concat/split/split_dim' with dtype int32\n",
      "\t [[{{node gradients/split_grad/concat/split/split_dim}}]]\n",
      "2023-06-05 07:49:32.204083: I tensorflow/core/common_runtime/executor.cc:1197] [/device:CPU:0] (DEBUG INFO) Executor start aborting (this does not indicate an error and you can ignore this message): INVALID_ARGUMENT: You must feed a value for placeholder tensor 'gradients/split_1_grad/concat/split_1/split_dim' with dtype int32\n",
      "\t [[{{node gradients/split_1_grad/concat/split_1/split_dim}}]]\n",
      "2023-06-05 07:49:32.318320: I tensorflow/core/common_runtime/executor.cc:1197] [/device:CPU:0] (DEBUG INFO) Executor start aborting (this does not indicate an error and you can ignore this message): INVALID_ARGUMENT: You must feed a value for placeholder tensor 'gradients/ReverseV2_grad/ReverseV2/ReverseV2/axis' with dtype int32 and shape [1]\n",
      "\t [[{{node gradients/ReverseV2_grad/ReverseV2/ReverseV2/axis}}]]\n",
      "2023-06-05 07:49:32.358657: I tensorflow/core/common_runtime/executor.cc:1197] [/device:CPU:0] (DEBUG INFO) Executor start aborting (this does not indicate an error and you can ignore this message): INVALID_ARGUMENT: You must feed a value for placeholder tensor 'gradients/split_2_grad/concat/split_2/split_dim' with dtype int32\n",
      "\t [[{{node gradients/split_2_grad/concat/split_2/split_dim}}]]\n",
      "2023-06-05 07:49:32.359743: I tensorflow/core/common_runtime/executor.cc:1197] [/device:CPU:0] (DEBUG INFO) Executor start aborting (this does not indicate an error and you can ignore this message): INVALID_ARGUMENT: You must feed a value for placeholder tensor 'gradients/split_grad/concat/split/split_dim' with dtype int32\n",
      "\t [[{{node gradients/split_grad/concat/split/split_dim}}]]\n",
      "2023-06-05 07:49:32.360779: I tensorflow/core/common_runtime/executor.cc:1197] [/device:CPU:0] (DEBUG INFO) Executor start aborting (this does not indicate an error and you can ignore this message): INVALID_ARGUMENT: You must feed a value for placeholder tensor 'gradients/split_1_grad/concat/split_1/split_dim' with dtype int32\n",
      "\t [[{{node gradients/split_1_grad/concat/split_1/split_dim}}]]\n",
      "2023-06-05 07:49:32.541359: I tensorflow/core/common_runtime/executor.cc:1197] [/device:CPU:0] (DEBUG INFO) Executor start aborting (this does not indicate an error and you can ignore this message): INVALID_ARGUMENT: You must feed a value for placeholder tensor 'gradients/split_2_grad/concat/split_2/split_dim' with dtype int32\n",
      "\t [[{{node gradients/split_2_grad/concat/split_2/split_dim}}]]\n",
      "2023-06-05 07:49:32.542942: I tensorflow/core/common_runtime/executor.cc:1197] [/device:CPU:0] (DEBUG INFO) Executor start aborting (this does not indicate an error and you can ignore this message): INVALID_ARGUMENT: You must feed a value for placeholder tensor 'gradients/split_grad/concat/split/split_dim' with dtype int32\n",
      "\t [[{{node gradients/split_grad/concat/split/split_dim}}]]\n",
      "2023-06-05 07:49:32.543967: I tensorflow/core/common_runtime/executor.cc:1197] [/device:CPU:0] (DEBUG INFO) Executor start aborting (this does not indicate an error and you can ignore this message): INVALID_ARGUMENT: You must feed a value for placeholder tensor 'gradients/split_1_grad/concat/split_1/split_dim' with dtype int32\n",
      "\t [[{{node gradients/split_1_grad/concat/split_1/split_dim}}]]\n",
      "2023-06-05 07:49:32.658393: I tensorflow/core/common_runtime/executor.cc:1197] [/device:CPU:0] (DEBUG INFO) Executor start aborting (this does not indicate an error and you can ignore this message): INVALID_ARGUMENT: You must feed a value for placeholder tensor 'gradients/ReverseV2_grad/ReverseV2/ReverseV2/axis' with dtype int32 and shape [1]\n",
      "\t [[{{node gradients/ReverseV2_grad/ReverseV2/ReverseV2/axis}}]]\n",
      "2023-06-05 07:49:32.698591: I tensorflow/core/common_runtime/executor.cc:1197] [/device:CPU:0] (DEBUG INFO) Executor start aborting (this does not indicate an error and you can ignore this message): INVALID_ARGUMENT: You must feed a value for placeholder tensor 'gradients/split_2_grad/concat/split_2/split_dim' with dtype int32\n",
      "\t [[{{node gradients/split_2_grad/concat/split_2/split_dim}}]]\n",
      "2023-06-05 07:49:32.699823: I tensorflow/core/common_runtime/executor.cc:1197] [/device:CPU:0] (DEBUG INFO) Executor start aborting (this does not indicate an error and you can ignore this message): INVALID_ARGUMENT: You must feed a value for placeholder tensor 'gradients/split_grad/concat/split/split_dim' with dtype int32\n",
      "\t [[{{node gradients/split_grad/concat/split/split_dim}}]]\n",
      "2023-06-05 07:49:32.700841: I tensorflow/core/common_runtime/executor.cc:1197] [/device:CPU:0] (DEBUG INFO) Executor start aborting (this does not indicate an error and you can ignore this message): INVALID_ARGUMENT: You must feed a value for placeholder tensor 'gradients/split_1_grad/concat/split_1/split_dim' with dtype int32\n",
      "\t [[{{node gradients/split_1_grad/concat/split_1/split_dim}}]]\n"
     ]
    },
    {
     "name": "stdout",
     "output_type": "stream",
     "text": [
      "Model: \"sequential\"\n",
      "_________________________________________________________________\n",
      " Layer (type)                Output Shape              Param #   \n",
      "=================================================================\n",
      " embedding (Embedding)       (None, None, 300)         16143000  \n",
      "                                                                 \n",
      " spatial_dropout1d (SpatialD  (None, None, 300)        0         \n",
      " ropout1D)                                                       \n",
      "                                                                 \n",
      " bidirectional (Bidirectiona  (None, None, 128)        186880    \n",
      " l)                                                              \n",
      "                                                                 \n",
      " dropout (Dropout)           (None, None, 128)         0         \n",
      "                                                                 \n",
      " bidirectional_1 (Bidirectio  (None, 64)               41216     \n",
      " nal)                                                            \n",
      "                                                                 \n",
      " dense (Dense)               (None, 128)               8320      \n",
      "                                                                 \n",
      " dropout_1 (Dropout)         (None, 128)               0         \n",
      "                                                                 \n",
      " dense_1 (Dense)             (None, 9)                 1161      \n",
      "                                                                 \n",
      "=================================================================\n",
      "Total params: 16,380,577\n",
      "Trainable params: 237,577\n",
      "Non-trainable params: 16,143,000\n",
      "_________________________________________________________________\n",
      "None\n"
     ]
    }
   ],
   "source": [
    "model = BiLSTM_Model()"
   ]
  },
  {
   "cell_type": "code",
   "execution_count": 23,
   "id": "53ee13de-c5e9-45e2-a680-6a05fa07e778",
   "metadata": {
    "tags": []
   },
   "outputs": [
    {
     "name": "stdout",
     "output_type": "stream",
     "text": [
      "Epoch 1/30\n"
     ]
    },
    {
     "name": "stderr",
     "output_type": "stream",
     "text": [
      "2023-06-05 07:49:33.118132: I tensorflow/core/common_runtime/executor.cc:1197] [/device:CPU:0] (DEBUG INFO) Executor start aborting (this does not indicate an error and you can ignore this message): INVALID_ARGUMENT: You must feed a value for placeholder tensor 'gradients/split_2_grad/concat/split_2/split_dim' with dtype int32\n",
      "\t [[{{node gradients/split_2_grad/concat/split_2/split_dim}}]]\n",
      "2023-06-05 07:49:33.119816: I tensorflow/core/common_runtime/executor.cc:1197] [/device:CPU:0] (DEBUG INFO) Executor start aborting (this does not indicate an error and you can ignore this message): INVALID_ARGUMENT: You must feed a value for placeholder tensor 'gradients/split_grad/concat/split/split_dim' with dtype int32\n",
      "\t [[{{node gradients/split_grad/concat/split/split_dim}}]]\n",
      "2023-06-05 07:49:33.120902: I tensorflow/core/common_runtime/executor.cc:1197] [/device:CPU:0] (DEBUG INFO) Executor start aborting (this does not indicate an error and you can ignore this message): INVALID_ARGUMENT: You must feed a value for placeholder tensor 'gradients/split_1_grad/concat/split_1/split_dim' with dtype int32\n",
      "\t [[{{node gradients/split_1_grad/concat/split_1/split_dim}}]]\n",
      "2023-06-05 07:49:33.239918: I tensorflow/core/common_runtime/executor.cc:1197] [/device:CPU:0] (DEBUG INFO) Executor start aborting (this does not indicate an error and you can ignore this message): INVALID_ARGUMENT: You must feed a value for placeholder tensor 'gradients/ReverseV2_grad/ReverseV2/ReverseV2/axis' with dtype int32 and shape [1]\n",
      "\t [[{{node gradients/ReverseV2_grad/ReverseV2/ReverseV2/axis}}]]\n",
      "2023-06-05 07:49:33.282610: I tensorflow/core/common_runtime/executor.cc:1197] [/device:CPU:0] (DEBUG INFO) Executor start aborting (this does not indicate an error and you can ignore this message): INVALID_ARGUMENT: You must feed a value for placeholder tensor 'gradients/split_2_grad/concat/split_2/split_dim' with dtype int32\n",
      "\t [[{{node gradients/split_2_grad/concat/split_2/split_dim}}]]\n",
      "2023-06-05 07:49:33.283825: I tensorflow/core/common_runtime/executor.cc:1197] [/device:CPU:0] (DEBUG INFO) Executor start aborting (this does not indicate an error and you can ignore this message): INVALID_ARGUMENT: You must feed a value for placeholder tensor 'gradients/split_grad/concat/split/split_dim' with dtype int32\n",
      "\t [[{{node gradients/split_grad/concat/split/split_dim}}]]\n",
      "2023-06-05 07:49:33.284913: I tensorflow/core/common_runtime/executor.cc:1197] [/device:CPU:0] (DEBUG INFO) Executor start aborting (this does not indicate an error and you can ignore this message): INVALID_ARGUMENT: You must feed a value for placeholder tensor 'gradients/split_1_grad/concat/split_1/split_dim' with dtype int32\n",
      "\t [[{{node gradients/split_1_grad/concat/split_1/split_dim}}]]\n",
      "2023-06-05 07:49:33.449140: I tensorflow/core/common_runtime/executor.cc:1197] [/device:CPU:0] (DEBUG INFO) Executor start aborting (this does not indicate an error and you can ignore this message): INVALID_ARGUMENT: You must feed a value for placeholder tensor 'gradients/split_2_grad/concat/split_2/split_dim' with dtype int32\n",
      "\t [[{{node gradients/split_2_grad/concat/split_2/split_dim}}]]\n",
      "2023-06-05 07:49:33.450829: I tensorflow/core/common_runtime/executor.cc:1197] [/device:CPU:0] (DEBUG INFO) Executor start aborting (this does not indicate an error and you can ignore this message): INVALID_ARGUMENT: You must feed a value for placeholder tensor 'gradients/split_grad/concat/split/split_dim' with dtype int32\n",
      "\t [[{{node gradients/split_grad/concat/split/split_dim}}]]\n",
      "2023-06-05 07:49:33.451915: I tensorflow/core/common_runtime/executor.cc:1197] [/device:CPU:0] (DEBUG INFO) Executor start aborting (this does not indicate an error and you can ignore this message): INVALID_ARGUMENT: You must feed a value for placeholder tensor 'gradients/split_1_grad/concat/split_1/split_dim' with dtype int32\n",
      "\t [[{{node gradients/split_1_grad/concat/split_1/split_dim}}]]\n",
      "2023-06-05 07:49:33.570797: I tensorflow/core/common_runtime/executor.cc:1197] [/device:CPU:0] (DEBUG INFO) Executor start aborting (this does not indicate an error and you can ignore this message): INVALID_ARGUMENT: You must feed a value for placeholder tensor 'gradients/ReverseV2_grad/ReverseV2/ReverseV2/axis' with dtype int32 and shape [1]\n",
      "\t [[{{node gradients/ReverseV2_grad/ReverseV2/ReverseV2/axis}}]]\n",
      "2023-06-05 07:49:33.613337: I tensorflow/core/common_runtime/executor.cc:1197] [/device:CPU:0] (DEBUG INFO) Executor start aborting (this does not indicate an error and you can ignore this message): INVALID_ARGUMENT: You must feed a value for placeholder tensor 'gradients/split_2_grad/concat/split_2/split_dim' with dtype int32\n",
      "\t [[{{node gradients/split_2_grad/concat/split_2/split_dim}}]]\n",
      "2023-06-05 07:49:33.614518: I tensorflow/core/common_runtime/executor.cc:1197] [/device:CPU:0] (DEBUG INFO) Executor start aborting (this does not indicate an error and you can ignore this message): INVALID_ARGUMENT: You must feed a value for placeholder tensor 'gradients/split_grad/concat/split/split_dim' with dtype int32\n",
      "\t [[{{node gradients/split_grad/concat/split/split_dim}}]]\n",
      "2023-06-05 07:49:33.615592: I tensorflow/core/common_runtime/executor.cc:1197] [/device:CPU:0] (DEBUG INFO) Executor start aborting (this does not indicate an error and you can ignore this message): INVALID_ARGUMENT: You must feed a value for placeholder tensor 'gradients/split_1_grad/concat/split_1/split_dim' with dtype int32\n",
      "\t [[{{node gradients/split_1_grad/concat/split_1/split_dim}}]]\n",
      "2023-06-05 07:49:33.902475: I tensorflow/core/common_runtime/executor.cc:1197] [/device:CPU:0] (DEBUG INFO) Executor start aborting (this does not indicate an error and you can ignore this message): INVALID_ARGUMENT: You must feed a value for placeholder tensor 'gradients/ReverseV2_grad/ReverseV2/ReverseV2/axis' with dtype int32 and shape [1]\n",
      "\t [[{{node gradients/ReverseV2_grad/ReverseV2/ReverseV2/axis}}]]\n",
      "2023-06-05 07:49:34.145182: I tensorflow/core/common_runtime/executor.cc:1197] [/device:CPU:0] (DEBUG INFO) Executor start aborting (this does not indicate an error and you can ignore this message): INVALID_ARGUMENT: You must feed a value for placeholder tensor 'gradients/ReverseV2_grad/ReverseV2/ReverseV2/axis' with dtype int32 and shape [1]\n",
      "\t [[{{node gradients/ReverseV2_grad/ReverseV2/ReverseV2/axis}}]]\n",
      "2023-06-05 07:49:35.130149: I tensorflow/core/common_runtime/executor.cc:1197] [/device:CPU:0] (DEBUG INFO) Executor start aborting (this does not indicate an error and you can ignore this message): INVALID_ARGUMENT: You must feed a value for placeholder tensor 'gradients/split_2_grad/concat/split_2/split_dim' with dtype int32\n",
      "\t [[{{node gradients/split_2_grad/concat/split_2/split_dim}}]]\n",
      "2023-06-05 07:49:35.131935: I tensorflow/core/common_runtime/executor.cc:1197] [/device:CPU:0] (DEBUG INFO) Executor start aborting (this does not indicate an error and you can ignore this message): INVALID_ARGUMENT: You must feed a value for placeholder tensor 'gradients/split_grad/concat/split/split_dim' with dtype int32\n",
      "\t [[{{node gradients/split_grad/concat/split/split_dim}}]]\n",
      "2023-06-05 07:49:35.133196: I tensorflow/core/common_runtime/executor.cc:1197] [/device:CPU:0] (DEBUG INFO) Executor start aborting (this does not indicate an error and you can ignore this message): INVALID_ARGUMENT: You must feed a value for placeholder tensor 'gradients/split_1_grad/concat/split_1/split_dim' with dtype int32\n",
      "\t [[{{node gradients/split_1_grad/concat/split_1/split_dim}}]]\n",
      "2023-06-05 07:49:35.250621: I tensorflow/core/common_runtime/executor.cc:1197] [/device:CPU:0] (DEBUG INFO) Executor start aborting (this does not indicate an error and you can ignore this message): INVALID_ARGUMENT: You must feed a value for placeholder tensor 'gradients/ReverseV2_grad/ReverseV2/ReverseV2/axis' with dtype int32 and shape [1]\n",
      "\t [[{{node gradients/ReverseV2_grad/ReverseV2/ReverseV2/axis}}]]\n",
      "2023-06-05 07:49:35.292119: I tensorflow/core/common_runtime/executor.cc:1197] [/device:CPU:0] (DEBUG INFO) Executor start aborting (this does not indicate an error and you can ignore this message): INVALID_ARGUMENT: You must feed a value for placeholder tensor 'gradients/split_2_grad/concat/split_2/split_dim' with dtype int32\n",
      "\t [[{{node gradients/split_2_grad/concat/split_2/split_dim}}]]\n",
      "2023-06-05 07:49:35.293334: I tensorflow/core/common_runtime/executor.cc:1197] [/device:CPU:0] (DEBUG INFO) Executor start aborting (this does not indicate an error and you can ignore this message): INVALID_ARGUMENT: You must feed a value for placeholder tensor 'gradients/split_grad/concat/split/split_dim' with dtype int32\n",
      "\t [[{{node gradients/split_grad/concat/split/split_dim}}]]\n",
      "2023-06-05 07:49:35.294448: I tensorflow/core/common_runtime/executor.cc:1197] [/device:CPU:0] (DEBUG INFO) Executor start aborting (this does not indicate an error and you can ignore this message): INVALID_ARGUMENT: You must feed a value for placeholder tensor 'gradients/split_1_grad/concat/split_1/split_dim' with dtype int32\n",
      "\t [[{{node gradients/split_1_grad/concat/split_1/split_dim}}]]\n",
      "2023-06-05 07:49:35.455199: I tensorflow/core/common_runtime/executor.cc:1197] [/device:CPU:0] (DEBUG INFO) Executor start aborting (this does not indicate an error and you can ignore this message): INVALID_ARGUMENT: You must feed a value for placeholder tensor 'gradients/split_2_grad/concat/split_2/split_dim' with dtype int32\n",
      "\t [[{{node gradients/split_2_grad/concat/split_2/split_dim}}]]\n",
      "2023-06-05 07:49:35.456795: I tensorflow/core/common_runtime/executor.cc:1197] [/device:CPU:0] (DEBUG INFO) Executor start aborting (this does not indicate an error and you can ignore this message): INVALID_ARGUMENT: You must feed a value for placeholder tensor 'gradients/split_grad/concat/split/split_dim' with dtype int32\n",
      "\t [[{{node gradients/split_grad/concat/split/split_dim}}]]\n",
      "2023-06-05 07:49:35.457859: I tensorflow/core/common_runtime/executor.cc:1197] [/device:CPU:0] (DEBUG INFO) Executor start aborting (this does not indicate an error and you can ignore this message): INVALID_ARGUMENT: You must feed a value for placeholder tensor 'gradients/split_1_grad/concat/split_1/split_dim' with dtype int32\n",
      "\t [[{{node gradients/split_1_grad/concat/split_1/split_dim}}]]\n",
      "2023-06-05 07:49:35.573167: I tensorflow/core/common_runtime/executor.cc:1197] [/device:CPU:0] (DEBUG INFO) Executor start aborting (this does not indicate an error and you can ignore this message): INVALID_ARGUMENT: You must feed a value for placeholder tensor 'gradients/ReverseV2_grad/ReverseV2/ReverseV2/axis' with dtype int32 and shape [1]\n",
      "\t [[{{node gradients/ReverseV2_grad/ReverseV2/ReverseV2/axis}}]]\n",
      "2023-06-05 07:49:35.614925: I tensorflow/core/common_runtime/executor.cc:1197] [/device:CPU:0] (DEBUG INFO) Executor start aborting (this does not indicate an error and you can ignore this message): INVALID_ARGUMENT: You must feed a value for placeholder tensor 'gradients/split_2_grad/concat/split_2/split_dim' with dtype int32\n",
      "\t [[{{node gradients/split_2_grad/concat/split_2/split_dim}}]]\n",
      "2023-06-05 07:49:35.616123: I tensorflow/core/common_runtime/executor.cc:1197] [/device:CPU:0] (DEBUG INFO) Executor start aborting (this does not indicate an error and you can ignore this message): INVALID_ARGUMENT: You must feed a value for placeholder tensor 'gradients/split_grad/concat/split/split_dim' with dtype int32\n",
      "\t [[{{node gradients/split_grad/concat/split/split_dim}}]]\n",
      "2023-06-05 07:49:35.617195: I tensorflow/core/common_runtime/executor.cc:1197] [/device:CPU:0] (DEBUG INFO) Executor start aborting (this does not indicate an error and you can ignore this message): INVALID_ARGUMENT: You must feed a value for placeholder tensor 'gradients/split_1_grad/concat/split_1/split_dim' with dtype int32\n",
      "\t [[{{node gradients/split_1_grad/concat/split_1/split_dim}}]]\n",
      "2023-06-05 07:49:35.898808: I tensorflow/core/common_runtime/executor.cc:1197] [/device:CPU:0] (DEBUG INFO) Executor start aborting (this does not indicate an error and you can ignore this message): INVALID_ARGUMENT: You must feed a value for placeholder tensor 'gradients/ReverseV2_grad/ReverseV2/ReverseV2/axis' with dtype int32 and shape [1]\n",
      "\t [[{{node gradients/ReverseV2_grad/ReverseV2/ReverseV2/axis}}]]\n",
      "2023-06-05 07:49:36.140271: I tensorflow/core/common_runtime/executor.cc:1197] [/device:CPU:0] (DEBUG INFO) Executor start aborting (this does not indicate an error and you can ignore this message): INVALID_ARGUMENT: You must feed a value for placeholder tensor 'gradients/ReverseV2_grad/ReverseV2/ReverseV2/axis' with dtype int32 and shape [1]\n",
      "\t [[{{node gradients/ReverseV2_grad/ReverseV2/ReverseV2/axis}}]]\n",
      "2023-06-05 07:49:37.665535: I tensorflow/compiler/xla/stream_executor/cuda/cuda_dnn.cc:424] Loaded cuDNN version 8600\n",
      "2023-06-05 07:49:37.948887: I tensorflow/compiler/xla/service/service.cc:169] XLA service 0x7f33baec8b00 initialized for platform CUDA (this does not guarantee that XLA will be used). Devices:\n",
      "2023-06-05 07:49:37.948935: I tensorflow/compiler/xla/service/service.cc:177]   StreamExecutor device (0): Tesla V100-PCIE-32GB, Compute Capability 7.0\n",
      "2023-06-05 07:49:37.953439: I tensorflow/compiler/mlir/tensorflow/utils/dump_mlir_util.cc:269] disabling MLIR crash reproducer, set env var `MLIR_CRASH_REPRODUCER_DIRECTORY` to enable.\n",
      "2023-06-05 07:49:38.120270: I ./tensorflow/compiler/jit/device_compiler.h:180] Compiled cluster using XLA!  This line is logged at most once for the lifetime of the process.\n"
     ]
    },
    {
     "name": "stdout",
     "output_type": "stream",
     "text": [
      "2125/2125 [==============================] - ETA: 0s - loss: 1.2990 - accuracy: 0.4950"
     ]
    },
    {
     "name": "stderr",
     "output_type": "stream",
     "text": [
      "2023-06-05 07:51:57.355355: I tensorflow/core/common_runtime/executor.cc:1197] [/device:CPU:0] (DEBUG INFO) Executor start aborting (this does not indicate an error and you can ignore this message): INVALID_ARGUMENT: You must feed a value for placeholder tensor 'gradients/split_2_grad/concat/split_2/split_dim' with dtype int32\n",
      "\t [[{{node gradients/split_2_grad/concat/split_2/split_dim}}]]\n",
      "2023-06-05 07:51:57.356642: I tensorflow/core/common_runtime/executor.cc:1197] [/device:CPU:0] (DEBUG INFO) Executor start aborting (this does not indicate an error and you can ignore this message): INVALID_ARGUMENT: You must feed a value for placeholder tensor 'gradients/split_grad/concat/split/split_dim' with dtype int32\n",
      "\t [[{{node gradients/split_grad/concat/split/split_dim}}]]\n",
      "2023-06-05 07:51:57.358070: I tensorflow/core/common_runtime/executor.cc:1197] [/device:CPU:0] (DEBUG INFO) Executor start aborting (this does not indicate an error and you can ignore this message): INVALID_ARGUMENT: You must feed a value for placeholder tensor 'gradients/split_1_grad/concat/split_1/split_dim' with dtype int32\n",
      "\t [[{{node gradients/split_1_grad/concat/split_1/split_dim}}]]\n",
      "2023-06-05 07:51:57.477289: I tensorflow/core/common_runtime/executor.cc:1197] [/device:CPU:0] (DEBUG INFO) Executor start aborting (this does not indicate an error and you can ignore this message): INVALID_ARGUMENT: You must feed a value for placeholder tensor 'gradients/ReverseV2_grad/ReverseV2/ReverseV2/axis' with dtype int32 and shape [1]\n",
      "\t [[{{node gradients/ReverseV2_grad/ReverseV2/ReverseV2/axis}}]]\n",
      "2023-06-05 07:51:57.519194: I tensorflow/core/common_runtime/executor.cc:1197] [/device:CPU:0] (DEBUG INFO) Executor start aborting (this does not indicate an error and you can ignore this message): INVALID_ARGUMENT: You must feed a value for placeholder tensor 'gradients/split_2_grad/concat/split_2/split_dim' with dtype int32\n",
      "\t [[{{node gradients/split_2_grad/concat/split_2/split_dim}}]]\n",
      "2023-06-05 07:51:57.520334: I tensorflow/core/common_runtime/executor.cc:1197] [/device:CPU:0] (DEBUG INFO) Executor start aborting (this does not indicate an error and you can ignore this message): INVALID_ARGUMENT: You must feed a value for placeholder tensor 'gradients/split_grad/concat/split/split_dim' with dtype int32\n",
      "\t [[{{node gradients/split_grad/concat/split/split_dim}}]]\n",
      "2023-06-05 07:51:57.521393: I tensorflow/core/common_runtime/executor.cc:1197] [/device:CPU:0] (DEBUG INFO) Executor start aborting (this does not indicate an error and you can ignore this message): INVALID_ARGUMENT: You must feed a value for placeholder tensor 'gradients/split_1_grad/concat/split_1/split_dim' with dtype int32\n",
      "\t [[{{node gradients/split_1_grad/concat/split_1/split_dim}}]]\n",
      "2023-06-05 07:51:57.683727: I tensorflow/core/common_runtime/executor.cc:1197] [/device:CPU:0] (DEBUG INFO) Executor start aborting (this does not indicate an error and you can ignore this message): INVALID_ARGUMENT: You must feed a value for placeholder tensor 'gradients/split_2_grad/concat/split_2/split_dim' with dtype int32\n",
      "\t [[{{node gradients/split_2_grad/concat/split_2/split_dim}}]]\n",
      "2023-06-05 07:51:57.685387: I tensorflow/core/common_runtime/executor.cc:1197] [/device:CPU:0] (DEBUG INFO) Executor start aborting (this does not indicate an error and you can ignore this message): INVALID_ARGUMENT: You must feed a value for placeholder tensor 'gradients/split_grad/concat/split/split_dim' with dtype int32\n",
      "\t [[{{node gradients/split_grad/concat/split/split_dim}}]]\n",
      "2023-06-05 07:51:57.686474: I tensorflow/core/common_runtime/executor.cc:1197] [/device:CPU:0] (DEBUG INFO) Executor start aborting (this does not indicate an error and you can ignore this message): INVALID_ARGUMENT: You must feed a value for placeholder tensor 'gradients/split_1_grad/concat/split_1/split_dim' with dtype int32\n",
      "\t [[{{node gradients/split_1_grad/concat/split_1/split_dim}}]]\n",
      "2023-06-05 07:51:57.805975: I tensorflow/core/common_runtime/executor.cc:1197] [/device:CPU:0] (DEBUG INFO) Executor start aborting (this does not indicate an error and you can ignore this message): INVALID_ARGUMENT: You must feed a value for placeholder tensor 'gradients/ReverseV2_grad/ReverseV2/ReverseV2/axis' with dtype int32 and shape [1]\n",
      "\t [[{{node gradients/ReverseV2_grad/ReverseV2/ReverseV2/axis}}]]\n",
      "2023-06-05 07:51:57.848140: I tensorflow/core/common_runtime/executor.cc:1197] [/device:CPU:0] (DEBUG INFO) Executor start aborting (this does not indicate an error and you can ignore this message): INVALID_ARGUMENT: You must feed a value for placeholder tensor 'gradients/split_2_grad/concat/split_2/split_dim' with dtype int32\n",
      "\t [[{{node gradients/split_2_grad/concat/split_2/split_dim}}]]\n",
      "2023-06-05 07:51:57.849277: I tensorflow/core/common_runtime/executor.cc:1197] [/device:CPU:0] (DEBUG INFO) Executor start aborting (this does not indicate an error and you can ignore this message): INVALID_ARGUMENT: You must feed a value for placeholder tensor 'gradients/split_grad/concat/split/split_dim' with dtype int32\n",
      "\t [[{{node gradients/split_grad/concat/split/split_dim}}]]\n",
      "2023-06-05 07:51:57.850305: I tensorflow/core/common_runtime/executor.cc:1197] [/device:CPU:0] (DEBUG INFO) Executor start aborting (this does not indicate an error and you can ignore this message): INVALID_ARGUMENT: You must feed a value for placeholder tensor 'gradients/split_1_grad/concat/split_1/split_dim' with dtype int32\n",
      "\t [[{{node gradients/split_1_grad/concat/split_1/split_dim}}]]\n"
     ]
    },
    {
     "name": "stdout",
     "output_type": "stream",
     "text": [
      "2125/2125 [==============================] - 156s 71ms/step - loss: 1.2990 - accuracy: 0.4950 - val_loss: 1.1017 - val_accuracy: 0.5807\n",
      "Epoch 2/30\n",
      "2125/2125 [==============================] - 160s 75ms/step - loss: 1.1412 - accuracy: 0.5654 - val_loss: 1.0258 - val_accuracy: 0.6159\n",
      "Epoch 3/30\n",
      "2125/2125 [==============================] - 151s 71ms/step - loss: 1.0802 - accuracy: 0.5925 - val_loss: 0.9860 - val_accuracy: 0.6292\n",
      "Epoch 4/30\n",
      "2125/2125 [==============================] - 158s 74ms/step - loss: 1.0437 - accuracy: 0.6068 - val_loss: 0.9609 - val_accuracy: 0.6393\n",
      "Epoch 5/30\n",
      "2125/2125 [==============================] - 153s 72ms/step - loss: 1.0113 - accuracy: 0.6177 - val_loss: 0.9542 - val_accuracy: 0.6416\n",
      "Epoch 6/30\n",
      "2125/2125 [==============================] - 150s 70ms/step - loss: 0.9871 - accuracy: 0.6280 - val_loss: 0.9297 - val_accuracy: 0.6476\n",
      "Epoch 7/30\n",
      "2125/2125 [==============================] - 146s 69ms/step - loss: 0.9658 - accuracy: 0.6343 - val_loss: 0.9105 - val_accuracy: 0.6553\n",
      "Epoch 8/30\n",
      "2125/2125 [==============================] - 149s 70ms/step - loss: 0.9494 - accuracy: 0.6424 - val_loss: 0.9055 - val_accuracy: 0.6603\n",
      "Epoch 9/30\n",
      "2125/2125 [==============================] - 152s 72ms/step - loss: 0.9315 - accuracy: 0.6509 - val_loss: 0.8976 - val_accuracy: 0.6618\n",
      "Epoch 10/30\n",
      "2125/2125 [==============================] - 153s 72ms/step - loss: 0.9184 - accuracy: 0.6532 - val_loss: 0.8842 - val_accuracy: 0.6660\n",
      "Epoch 11/30\n",
      "2125/2125 [==============================] - 153s 72ms/step - loss: 0.9065 - accuracy: 0.6557 - val_loss: 0.8819 - val_accuracy: 0.6680\n",
      "Epoch 12/30\n",
      "2125/2125 [==============================] - 149s 70ms/step - loss: 0.8965 - accuracy: 0.6609 - val_loss: 0.8945 - val_accuracy: 0.6637\n",
      "Epoch 13/30\n",
      "2125/2125 [==============================] - 147s 69ms/step - loss: 0.8832 - accuracy: 0.6656 - val_loss: 0.8794 - val_accuracy: 0.6697\n",
      "Epoch 14/30\n",
      "2125/2125 [==============================] - 149s 70ms/step - loss: 0.8730 - accuracy: 0.6667 - val_loss: 0.8847 - val_accuracy: 0.6697\n",
      "Epoch 15/30\n",
      "2125/2125 [==============================] - 149s 70ms/step - loss: 0.8654 - accuracy: 0.6714 - val_loss: 0.8727 - val_accuracy: 0.6727\n",
      "Epoch 16/30\n",
      "2125/2125 [==============================] - 152s 72ms/step - loss: 0.8585 - accuracy: 0.6734 - val_loss: 0.8670 - val_accuracy: 0.6727\n",
      "Epoch 17/30\n",
      "2125/2125 [==============================] - 151s 71ms/step - loss: 0.8484 - accuracy: 0.6792 - val_loss: 0.8683 - val_accuracy: 0.6763\n",
      "Epoch 18/30\n",
      "2125/2125 [==============================] - 151s 71ms/step - loss: 0.8446 - accuracy: 0.6800 - val_loss: 0.8615 - val_accuracy: 0.6752\n",
      "Epoch 19/30\n",
      "2125/2125 [==============================] - 147s 69ms/step - loss: 0.8364 - accuracy: 0.6809 - val_loss: 0.8654 - val_accuracy: 0.6781\n",
      "Epoch 20/30\n",
      "2125/2125 [==============================] - 148s 70ms/step - loss: 0.8280 - accuracy: 0.6856 - val_loss: 0.8658 - val_accuracy: 0.6705\n",
      "Epoch 21/30\n",
      "2125/2125 [==============================] - 150s 71ms/step - loss: 0.8200 - accuracy: 0.6873 - val_loss: 0.8739 - val_accuracy: 0.6727\n",
      "Epoch 22/30\n",
      "2125/2125 [==============================] - 152s 71ms/step - loss: 0.8182 - accuracy: 0.6892 - val_loss: 0.8593 - val_accuracy: 0.6810\n",
      "Epoch 23/30\n",
      "2125/2125 [==============================] - 153s 72ms/step - loss: 0.8117 - accuracy: 0.6910 - val_loss: 0.8675 - val_accuracy: 0.6779\n",
      "Epoch 24/30\n",
      "2125/2125 [==============================] - 151s 71ms/step - loss: 0.8070 - accuracy: 0.6923 - val_loss: 0.8660 - val_accuracy: 0.6781\n",
      "Epoch 25/30\n",
      "2125/2125 [==============================] - 146s 68ms/step - loss: 0.8013 - accuracy: 0.6940 - val_loss: 0.8729 - val_accuracy: 0.6774\n",
      "Epoch 26/30\n",
      "2125/2125 [==============================] - 153s 72ms/step - loss: 0.7984 - accuracy: 0.6962 - val_loss: 0.8716 - val_accuracy: 0.6774\n",
      "Epoch 27/30\n",
      "2125/2125 [==============================] - 151s 71ms/step - loss: 0.7930 - accuracy: 0.6987 - val_loss: 0.8745 - val_accuracy: 0.6760\n",
      "Epoch 28/30\n",
      "2125/2125 [==============================] - 161s 76ms/step - loss: 0.7857 - accuracy: 0.6994 - val_loss: 0.8729 - val_accuracy: 0.6743\n",
      "Epoch 29/30\n",
      "2125/2125 [==============================] - 152s 72ms/step - loss: 0.7867 - accuracy: 0.6986 - val_loss: 0.8962 - val_accuracy: 0.6747\n",
      "Epoch 30/30\n",
      "2125/2125 [==============================] - 152s 72ms/step - loss: 0.7833 - accuracy: 0.7012 - val_loss: 0.8724 - val_accuracy: 0.6787\n"
     ]
    }
   ],
   "source": [
    "history = model.fit(train_x, train_y, batch_size=32, epochs=30, verbose=1, validation_data=(valid_x, valid_y))"
   ]
  },
  {
   "cell_type": "code",
   "execution_count": 24,
   "id": "835da00c-00e2-4ca9-9191-1b88453509fa",
   "metadata": {
    "tags": []
   },
   "outputs": [
    {
     "data": {
      "image/png": "[encoded data removed]",
      "text/plain": [
       "<Figure size 640x480 with 1 Axes>"
      ]
     },
     "metadata": {},
     "output_type": "display_data"
    }
   ],
   "source": [
    "import matplotlib.pyplot as plt\n",
    "\n",
    "plt.plot(history.history['accuracy'], label=\"Accuracy\")\n",
    "plt.plot(history.history['val_accuracy'], label=\"Validation accuracy\")\n",
    "plt.title('Accuracy')\n",
    "plt.xlabel('Epoch')\n",
    "plt.ylabel('Accuracy')\n",
    "plt.legend()\n",
    "plt.tight_layout()\n",
    "plt.show()"
   ]
  },
  {
   "cell_type": "code",
   "execution_count": 25,
   "id": "cf1e6219-5274-462e-b427-24c8850c0dce",
   "metadata": {
    "tags": []
   },
   "outputs": [
    {
     "name": "stderr",
     "output_type": "stream",
     "text": [
      "2023-06-05 09:05:19.222191: I tensorflow/core/common_runtime/executor.cc:1197] [/device:CPU:0] (DEBUG INFO) Executor start aborting (this does not indicate an error and you can ignore this message): INVALID_ARGUMENT: You must feed a value for placeholder tensor 'gradients/split_2_grad/concat/split_2/split_dim' with dtype int32\n",
      "\t [[{{node gradients/split_2_grad/concat/split_2/split_dim}}]]\n",
      "2023-06-05 09:05:19.223363: I tensorflow/core/common_runtime/executor.cc:1197] [/device:CPU:0] (DEBUG INFO) Executor start aborting (this does not indicate an error and you can ignore this message): INVALID_ARGUMENT: You must feed a value for placeholder tensor 'gradients/split_grad/concat/split/split_dim' with dtype int32\n",
      "\t [[{{node gradients/split_grad/concat/split/split_dim}}]]\n",
      "2023-06-05 09:05:19.224675: I tensorflow/core/common_runtime/executor.cc:1197] [/device:CPU:0] (DEBUG INFO) Executor start aborting (this does not indicate an error and you can ignore this message): INVALID_ARGUMENT: You must feed a value for placeholder tensor 'gradients/split_1_grad/concat/split_1/split_dim' with dtype int32\n",
      "\t [[{{node gradients/split_1_grad/concat/split_1/split_dim}}]]\n",
      "2023-06-05 09:05:19.336285: I tensorflow/core/common_runtime/executor.cc:1197] [/device:CPU:0] (DEBUG INFO) Executor start aborting (this does not indicate an error and you can ignore this message): INVALID_ARGUMENT: You must feed a value for placeholder tensor 'gradients/ReverseV2_grad/ReverseV2/ReverseV2/axis' with dtype int32 and shape [1]\n",
      "\t [[{{node gradients/ReverseV2_grad/ReverseV2/ReverseV2/axis}}]]\n",
      "2023-06-05 09:05:19.375994: I tensorflow/core/common_runtime/executor.cc:1197] [/device:CPU:0] (DEBUG INFO) Executor start aborting (this does not indicate an error and you can ignore this message): INVALID_ARGUMENT: You must feed a value for placeholder tensor 'gradients/split_2_grad/concat/split_2/split_dim' with dtype int32\n",
      "\t [[{{node gradients/split_2_grad/concat/split_2/split_dim}}]]\n",
      "2023-06-05 09:05:19.377098: I tensorflow/core/common_runtime/executor.cc:1197] [/device:CPU:0] (DEBUG INFO) Executor start aborting (this does not indicate an error and you can ignore this message): INVALID_ARGUMENT: You must feed a value for placeholder tensor 'gradients/split_grad/concat/split/split_dim' with dtype int32\n",
      "\t [[{{node gradients/split_grad/concat/split/split_dim}}]]\n",
      "2023-06-05 09:05:19.378073: I tensorflow/core/common_runtime/executor.cc:1197] [/device:CPU:0] (DEBUG INFO) Executor start aborting (this does not indicate an error and you can ignore this message): INVALID_ARGUMENT: You must feed a value for placeholder tensor 'gradients/split_1_grad/concat/split_1/split_dim' with dtype int32\n",
      "\t [[{{node gradients/split_1_grad/concat/split_1/split_dim}}]]\n",
      "2023-06-05 09:05:19.539779: I tensorflow/core/common_runtime/executor.cc:1197] [/device:CPU:0] (DEBUG INFO) Executor start aborting (this does not indicate an error and you can ignore this message): INVALID_ARGUMENT: You must feed a value for placeholder tensor 'gradients/split_2_grad/concat/split_2/split_dim' with dtype int32\n",
      "\t [[{{node gradients/split_2_grad/concat/split_2/split_dim}}]]\n",
      "2023-06-05 09:05:19.540889: I tensorflow/core/common_runtime/executor.cc:1197] [/device:CPU:0] (DEBUG INFO) Executor start aborting (this does not indicate an error and you can ignore this message): INVALID_ARGUMENT: You must feed a value for placeholder tensor 'gradients/split_grad/concat/split/split_dim' with dtype int32\n",
      "\t [[{{node gradients/split_grad/concat/split/split_dim}}]]\n",
      "2023-06-05 09:05:19.542120: I tensorflow/core/common_runtime/executor.cc:1197] [/device:CPU:0] (DEBUG INFO) Executor start aborting (this does not indicate an error and you can ignore this message): INVALID_ARGUMENT: You must feed a value for placeholder tensor 'gradients/split_1_grad/concat/split_1/split_dim' with dtype int32\n",
      "\t [[{{node gradients/split_1_grad/concat/split_1/split_dim}}]]\n",
      "2023-06-05 09:05:19.653531: I tensorflow/core/common_runtime/executor.cc:1197] [/device:CPU:0] (DEBUG INFO) Executor start aborting (this does not indicate an error and you can ignore this message): INVALID_ARGUMENT: You must feed a value for placeholder tensor 'gradients/ReverseV2_grad/ReverseV2/ReverseV2/axis' with dtype int32 and shape [1]\n",
      "\t [[{{node gradients/ReverseV2_grad/ReverseV2/ReverseV2/axis}}]]\n",
      "2023-06-05 09:05:19.692439: I tensorflow/core/common_runtime/executor.cc:1197] [/device:CPU:0] (DEBUG INFO) Executor start aborting (this does not indicate an error and you can ignore this message): INVALID_ARGUMENT: You must feed a value for placeholder tensor 'gradients/split_2_grad/concat/split_2/split_dim' with dtype int32\n",
      "\t [[{{node gradients/split_2_grad/concat/split_2/split_dim}}]]\n",
      "2023-06-05 09:05:19.693520: I tensorflow/core/common_runtime/executor.cc:1197] [/device:CPU:0] (DEBUG INFO) Executor start aborting (this does not indicate an error and you can ignore this message): INVALID_ARGUMENT: You must feed a value for placeholder tensor 'gradients/split_grad/concat/split/split_dim' with dtype int32\n",
      "\t [[{{node gradients/split_grad/concat/split/split_dim}}]]\n",
      "2023-06-05 09:05:19.694502: I tensorflow/core/common_runtime/executor.cc:1197] [/device:CPU:0] (DEBUG INFO) Executor start aborting (this does not indicate an error and you can ignore this message): INVALID_ARGUMENT: You must feed a value for placeholder tensor 'gradients/split_1_grad/concat/split_1/split_dim' with dtype int32\n",
      "\t [[{{node gradients/split_1_grad/concat/split_1/split_dim}}]]\n"
     ]
    },
    {
     "name": "stdout",
     "output_type": "stream",
     "text": [
      "625/625 [==============================] - 20s 31ms/step\n"
     ]
    }
   ],
   "source": [
    "from sklearn.metrics import classification_report\n",
    "\n",
    "y_pred = model.predict(test_x)\n",
    "y_pred = np.argmax(y_pred, axis=1)"
   ]
  },
  {
   "cell_type": "code",
   "execution_count": 26,
   "id": "a88883ff-baa1-4a6d-9cfd-a342187c4ffc",
   "metadata": {
    "tags": []
   },
   "outputs": [
    {
     "data": {
      "text/plain": [
       "(20000, 300)"
      ]
     },
     "execution_count": 26,
     "metadata": {},
     "output_type": "execute_result"
    }
   ],
   "source": [
    "test_x.shape"
   ]
  },
  {
   "cell_type": "code",
   "execution_count": null,
   "id": "dc263893-e226-4a76-93d2-772d5dd87527",
   "metadata": {
    "tags": []
   },
   "outputs": [],
   "source": [
    "categories = ['Human necessities', 'Performing_operations', 'Chemistry','Textiles','Fixed_constructions','Mechanical_engineering','Physics','Electricity','General']\n",
    "print(classification_report(test_y, y_pred,  target_names=categories))"
   ]
  },
  {
   "cell_type": "code",
   "execution_count": null,
   "id": "d664d681-bc8a-46c8-9c0f-7adac6484b04",
   "metadata": {
    "tags": []
   },
   "outputs": [],
   "source": [
    "from sklearn.metrics import confusion_matrix, ConfusionMatrixDisplay\n",
    "cm = confusion_matrix(test_y, y_pred)\n",
    "disp = ConfusionMatrixDisplay(confusion_matrix=cm, display_labels=categories)\n",
    "disp.plot()\n",
    "plt.show()"
   ]
  },
  {
   "cell_type": "markdown",
   "id": "50abe61f-43e5-40ad-b9d7-64e228bf1a72",
   "metadata": {
    "tags": []
   },
   "source": [
    "# CNN model"
   ]
  },
  {
   "cell_type": "code",
   "execution_count": 43,
   "id": "f8c3a07a-a492-4202-a4c6-7a672a978cb3",
   "metadata": {
    "tags": []
   },
   "outputs": [],
   "source": [
    "def CNN_Model():\n",
    "    model = Sequential()\n",
    "    model.add(embedding_layer)\n",
    "    model.add(SpatialDropout1D(0.3))\n",
    "    model.add(Convolution1D(100, 3, activation=\"relu\"))\n",
    "    model.add(GlobalAveragePooling1D())\n",
    "    #model.add(Bidirectional(LSTM(32)))\n",
    "    #model.add(Dropout(0.2))\n",
    "    model.add(Dense(9, activation=\"softmax\"))\n",
    "    model.compile(loss = 'sparse_categorical_crossentropy', optimizer='adam', metrics = ['accuracy'])\n",
    "    \n",
    "    print(model.summary())\n",
    "    \n",
    "    return model "
   ]
  },
  {
   "cell_type": "code",
   "execution_count": 44,
   "id": "33f19f82-da8c-447c-a338-2e30302e8651",
   "metadata": {
    "tags": []
   },
   "outputs": [
    {
     "name": "stdout",
     "output_type": "stream",
     "text": [
      "Model: \"sequential_1\"\n",
      "_________________________________________________________________\n",
      " Layer (type)                Output Shape              Param #   \n",
      "=================================================================\n",
      " embedding (Embedding)       (None, None, 300)         9434700   \n",
      "                                                                 \n",
      " spatial_dropout1d_1 (Spatia  (None, None, 300)        0         \n",
      " lDropout1D)                                                     \n",
      "                                                                 \n",
      " conv1d (Conv1D)             (None, None, 100)         90100     \n",
      "                                                                 \n",
      " global_average_pooling1d (G  (None, 100)              0         \n",
      " lobalAveragePooling1D)                                          \n",
      "                                                                 \n",
      " dense_2 (Dense)             (None, 9)                 909       \n",
      "                                                                 \n",
      "=================================================================\n",
      "Total params: 9525709 (36.34 MB)\n",
      "Trainable params: 91009 (355.50 KB)\n",
      "Non-trainable params: 9434700 (35.99 MB)\n",
      "_________________________________________________________________\n",
      "None\n"
     ]
    }
   ],
   "source": [
    "CNN_model = CNN_Model()"
   ]
  },
  {
   "cell_type": "code",
   "execution_count": null,
   "id": "64993ad9-0108-401d-b092-da7b2aa517bd",
   "metadata": {
    "tags": []
   },
   "outputs": [
    {
     "name": "stdout",
     "output_type": "stream",
     "text": [
      "Epoch 1/50\n",
      "532/532 [==============================] - 5s 7ms/step - loss: 1.6736 - accuracy: 0.4072 - val_loss: 1.4837 - val_accuracy: 0.4953\n",
      "Epoch 2/50\n",
      "532/532 [==============================] - 3s 6ms/step - loss: 1.4439 - accuracy: 0.5009 - val_loss: 1.4155 - val_accuracy: 0.5103\n",
      "Epoch 3/50\n",
      "532/532 [==============================] - 3s 7ms/step - loss: 1.3913 - accuracy: 0.5170 - val_loss: 1.3914 - val_accuracy: 0.5160\n",
      "Epoch 4/50\n",
      "532/532 [==============================] - 3s 7ms/step - loss: 1.3635 - accuracy: 0.5301 - val_loss: 1.3610 - val_accuracy: 0.5193\n",
      "Epoch 5/50\n",
      "532/532 [==============================] - 3s 6ms/step - loss: 1.3504 - accuracy: 0.5314 - val_loss: 1.3682 - val_accuracy: 0.5093\n",
      "Epoch 6/50\n",
      "532/532 [==============================] - 3s 6ms/step - loss: 1.3372 - accuracy: 0.5322 - val_loss: 1.3430 - val_accuracy: 0.5263\n",
      "Epoch 7/50\n",
      "532/532 [==============================] - 3s 6ms/step - loss: 1.3237 - accuracy: 0.5421 - val_loss: 1.3283 - val_accuracy: 0.5347\n",
      "Epoch 8/50\n",
      "532/532 [==============================] - 3s 7ms/step - loss: 1.3120 - accuracy: 0.5431 - val_loss: 1.3305 - val_accuracy: 0.5357\n",
      "Epoch 9/50\n",
      "532/532 [==============================] - 3s 6ms/step - loss: 1.3097 - accuracy: 0.5442 - val_loss: 1.3088 - val_accuracy: 0.5390\n",
      "Epoch 10/50\n",
      "532/532 [==============================] - 3s 7ms/step - loss: 1.2982 - accuracy: 0.5472 - val_loss: 1.3107 - val_accuracy: 0.5417\n",
      "Epoch 11/50\n",
      "532/532 [==============================] - 4s 7ms/step - loss: 1.2934 - accuracy: 0.5521 - val_loss: 1.3105 - val_accuracy: 0.5457\n",
      "Epoch 12/50\n",
      "532/532 [==============================] - 3s 7ms/step - loss: 1.2864 - accuracy: 0.5529 - val_loss: 1.3049 - val_accuracy: 0.5360\n",
      "Epoch 13/50\n",
      "532/532 [==============================] - 3s 6ms/step - loss: 1.2798 - accuracy: 0.5526 - val_loss: 1.2933 - val_accuracy: 0.5443\n",
      "Epoch 14/50\n",
      "532/532 [==============================] - 3s 7ms/step - loss: 1.2700 - accuracy: 0.5565 - val_loss: 1.2834 - val_accuracy: 0.5517\n",
      "Epoch 15/50\n",
      "532/532 [==============================] - 3s 6ms/step - loss: 1.2693 - accuracy: 0.5579 - val_loss: 1.2802 - val_accuracy: 0.5557\n",
      "Epoch 16/50\n",
      "532/532 [==============================] - 3s 6ms/step - loss: 1.2662 - accuracy: 0.5588 - val_loss: 1.2854 - val_accuracy: 0.5540\n",
      "Epoch 17/50\n",
      "532/532 [==============================] - 3s 6ms/step - loss: 1.2553 - accuracy: 0.5652 - val_loss: 1.2798 - val_accuracy: 0.5490\n",
      "Epoch 18/50\n",
      "532/532 [==============================] - 3s 6ms/step - loss: 1.2600 - accuracy: 0.5639 - val_loss: 1.2727 - val_accuracy: 0.5563\n",
      "Epoch 19/50\n",
      "532/532 [==============================] - 3s 6ms/step - loss: 1.2518 - accuracy: 0.5652 - val_loss: 1.2708 - val_accuracy: 0.5563\n",
      "Epoch 20/50\n",
      "532/532 [==============================] - 3s 6ms/step - loss: 1.2455 - accuracy: 0.5714 - val_loss: 1.2809 - val_accuracy: 0.5507\n",
      "Epoch 21/50\n",
      "532/532 [==============================] - 3s 6ms/step - loss: 1.2362 - accuracy: 0.5674 - val_loss: 1.2678 - val_accuracy: 0.5613\n",
      "Epoch 22/50\n",
      "532/532 [==============================] - 3s 6ms/step - loss: 1.2354 - accuracy: 0.5727 - val_loss: 1.2584 - val_accuracy: 0.5647\n",
      "Epoch 23/50\n",
      "532/532 [==============================] - 3s 7ms/step - loss: 1.2324 - accuracy: 0.5696 - val_loss: 1.2608 - val_accuracy: 0.5573\n",
      "Epoch 24/50\n",
      "532/532 [==============================] - 3s 6ms/step - loss: 1.2291 - accuracy: 0.5751 - val_loss: 1.2527 - val_accuracy: 0.5607\n",
      "Epoch 25/50\n",
      "532/532 [==============================] - 3s 6ms/step - loss: 1.2259 - accuracy: 0.5769 - val_loss: 1.2569 - val_accuracy: 0.5643\n",
      "Epoch 26/50\n",
      "532/532 [==============================] - 3s 7ms/step - loss: 1.2234 - accuracy: 0.5745 - val_loss: 1.2529 - val_accuracy: 0.5640\n",
      "Epoch 27/50\n",
      "532/532 [==============================] - 4s 7ms/step - loss: 1.2158 - accuracy: 0.5798 - val_loss: 1.2475 - val_accuracy: 0.5677\n",
      "Epoch 28/50\n",
      "532/532 [==============================] - 4s 7ms/step - loss: 1.2100 - accuracy: 0.5819 - val_loss: 1.2444 - val_accuracy: 0.5693\n",
      "Epoch 29/50\n",
      "532/532 [==============================] - 3s 6ms/step - loss: 1.2036 - accuracy: 0.5842 - val_loss: 1.2411 - val_accuracy: 0.5697\n",
      "Epoch 30/50\n",
      "532/532 [==============================] - 3s 6ms/step - loss: 1.2039 - accuracy: 0.5798 - val_loss: 1.2409 - val_accuracy: 0.5657\n",
      "Epoch 31/50\n",
      "532/532 [==============================] - 3s 6ms/step - loss: 1.2002 - accuracy: 0.5827 - val_loss: 1.2392 - val_accuracy: 0.5690\n",
      "Epoch 32/50\n",
      "532/532 [==============================] - 3s 6ms/step - loss: 1.1969 - accuracy: 0.5861 - val_loss: 1.2384 - val_accuracy: 0.5730\n",
      "Epoch 33/50\n",
      "532/532 [==============================] - 3s 6ms/step - loss: 1.1946 - accuracy: 0.5858 - val_loss: 1.2308 - val_accuracy: 0.5693\n",
      "Epoch 34/50\n",
      "532/532 [==============================] - 3s 6ms/step - loss: 1.1842 - accuracy: 0.5917 - val_loss: 1.2325 - val_accuracy: 0.5730\n",
      "Epoch 35/50\n",
      "532/532 [==============================] - 3s 6ms/step - loss: 1.1820 - accuracy: 0.5869 - val_loss: 1.2347 - val_accuracy: 0.5747\n",
      "Epoch 36/50\n",
      "532/532 [==============================] - 3s 6ms/step - loss: 1.1782 - accuracy: 0.5930 - val_loss: 1.2302 - val_accuracy: 0.5780\n",
      "Epoch 37/50\n",
      "532/532 [==============================] - 3s 6ms/step - loss: 1.1759 - accuracy: 0.5941 - val_loss: 1.2387 - val_accuracy: 0.5690\n",
      "Epoch 38/50\n",
      "532/532 [==============================] - 3s 6ms/step - loss: 1.1740 - accuracy: 0.5871 - val_loss: 1.2272 - val_accuracy: 0.5743\n",
      "Epoch 39/50\n",
      "532/532 [==============================] - 3s 6ms/step - loss: 1.1699 - accuracy: 0.5912 - val_loss: 1.2276 - val_accuracy: 0.5803\n",
      "Epoch 40/50\n",
      "532/532 [==============================] - 3s 6ms/step - loss: 1.1666 - accuracy: 0.5968 - val_loss: 1.2240 - val_accuracy: 0.5773\n",
      "Epoch 41/50\n",
      "532/532 [==============================] - 3s 6ms/step - loss: 1.1669 - accuracy: 0.5974 - val_loss: 1.2237 - val_accuracy: 0.5807\n",
      "Epoch 42/50\n",
      "454/532 [========================>.....] - ETA: 0s - loss: 1.1608 - accuracy: 0.5960"
     ]
    }
   ],
   "source": [
    "CNN_history = CNN_model.fit(train_x, train_y, batch_size=32, epochs=50, verbose=1, validation_data=(valid_x, valid_y))"
   ]
  },
  {
   "cell_type": "code",
   "execution_count": 68,
   "id": "9fef61bf-df09-4f6a-af5f-3d397206fa32",
   "metadata": {
    "tags": []
   },
   "outputs": [
    {
     "name": "stdout",
     "output_type": "stream",
     "text": [
      "157/157 [==============================] - 0s 3ms/step\n"
     ]
    }
   ],
   "source": [
    "from sklearn.metrics import classification_report\n",
    "\n",
    "y_pred = CNN_model.predict(test_x)\n",
    "y_pred = np.argmax(y_pred, axis=1)"
   ]
  },
  {
   "cell_type": "code",
   "execution_count": null,
   "id": "3b5dba62-c134-4475-8bfe-0392e5bdc074",
   "metadata": {
    "tags": []
   },
   "outputs": [],
   "source": [
    "categories = ['Human necessities', 'Performing_operations', 'Chemistry','Textiles','Fixed_constructions','Mechanical_engineering','Physics','Electricity','General']\n",
    "print(classification_report(test_y, y_pred,  target_names=categories))"
   ]
  },
  {
   "cell_type": "markdown",
   "id": "f2376d8b-abf2-415d-b885-397190a692b0",
   "metadata": {
    "tags": []
   },
   "source": [
    "# GRU"
   ]
  },
  {
   "cell_type": "code",
   "execution_count": null,
   "id": "73185b8d-c52c-489a-82e0-b65eb27a5290",
   "metadata": {
    "tags": []
   },
   "outputs": [],
   "source": [
    "def rnn_gru():\n",
    "\n",
    "    model = Sequential()\n",
    "    model.add(embedding_layer)\n",
    "    model.add(SpatialDropout1D(0.5))\n",
    "    model.add(GRU(100))\n",
    "    model.add(Dense(50, activation=\"relu\"))\n",
    "    model.add(Dropout(0.25))\n",
    "    model.add(Dense(9, activation=\"softmax\"))\n",
    "    model.compile(loss = '`', optimizer='adam', metrics = ['accuracy'])\n",
    "    \n",
    "    print(model.summary())\n",
    "    \n",
    "    return model"
   ]
  },
  {
   "cell_type": "code",
   "execution_count": null,
   "id": "2c2d8f6e-74a3-4063-b724-5462b711761f",
   "metadata": {
    "tags": []
   },
   "outputs": [],
   "source": [
    "rnn_gru = rnn_gru()"
   ]
  },
  {
   "cell_type": "code",
   "execution_count": null,
   "id": "4e00c473-68d1-4c3b-8e4f-56758296dccf",
   "metadata": {
    "tags": []
   },
   "outputs": [],
   "source": [
    "history_gru = rnn_gru.fit(train_x, train_y, batch_size=32, epochs=50, verbose=1, validation_data=(valid_x, valid_y))"
   ]
  },
  {
   "cell_type": "code",
   "execution_count": 64,
   "id": "9871ccf1-9dd7-4c12-8800-bdc576ddf0df",
   "metadata": {
    "tags": []
   },
   "outputs": [
    {
     "name": "stdout",
     "output_type": "stream",
     "text": [
      "157/157 [==============================] - 1s 7ms/step\n"
     ]
    }
   ],
   "source": [
    "from sklearn.metrics import classification_report\n",
    "\n",
    "y_pred = rnn_gru.predict(test_x)\n",
    "y_pred = np.argmax(y_pred, axis=1)"
   ]
  },
  {
   "cell_type": "code",
   "execution_count": null,
   "id": "da395422-80b4-4d0d-a53a-e55b8de6c1b6",
   "metadata": {
    "tags": []
   },
   "outputs": [],
   "source": [
    "categories = ['Human necessities', 'Performing_operations', 'Chemistry','Textiles','Fixed_constructions','Mechanical_engineering','Physics','Electricity','General']\n",
    "print(classification_report(test_y, y_pred,  target_names=categories))"
   ]
  },
  {
   "cell_type": "markdown",
   "id": "424fe89f-f823-47b2-a2fe-a181e35b3a1c",
   "metadata": {
    "tags": []
   },
   "source": [
    "# CNN LSTM"
   ]
  },
  {
   "cell_type": "code",
   "execution_count": null,
   "id": "99df4a31-1f78-4028-96cb-b59fc02519c3",
   "metadata": {
    "tags": []
   },
   "outputs": [],
   "source": [
    "def CNN_LSTM_Model():\n",
    "    model = Sequential()\n",
    "    model.add(embedding_layer)\n",
    "    model.add(SpatialDropout1D(0.3))\n",
    "    model.add(Convolution1D(100, 3, activation=\"relu\"))\n",
    "    model.add(MaxPooling1D(pool_size=2))\n",
    "    #model.add(LSTM(32))\n",
    "    #model.add(Dense(units=1, activation='sigmoid'))\n",
    "    #model.add(GlobalAveragePooling1D())\n",
    "    model.add(Bidirectional(LSTM(32)))\n",
    "    #model.add(Dropout(0.2))\n",
    "    #model.add(LSTM(32))\n",
    "    model.add(Dropout(0.2))\n",
    "    model.add(Dense(9, activation=\"softmax\"))\n",
    "    model.compile(loss = 'sparse_categorical_crossentropy', optimizer='adam', metrics = ['accuracy'])\n",
    "    \n",
    "    print(model.summary())\n",
    "    \n",
    "    return model \n",
    " "
   ]
  },
  {
   "cell_type": "code",
   "execution_count": null,
   "id": "b793c0ea-6c89-4092-90ea-954aed8f3dd9",
   "metadata": {
    "tags": []
   },
   "outputs": [],
   "source": [
    "CNN_LSTM_Model = CNN_LSTM_Model()"
   ]
  },
  {
   "cell_type": "code",
   "execution_count": null,
   "id": "5d4856ed-d997-44c3-9ece-eed177f63cfd",
   "metadata": {
    "tags": []
   },
   "outputs": [],
   "source": [
    "CNN_LSTM_history = CNN_LSTM_Model.fit(train_x, train_y, batch_size=32, epochs=20, verbose=1, validation_data=(valid_x, valid_y))"
   ]
  },
  {
   "cell_type": "code",
   "execution_count": 66,
   "id": "584d82e4-8f55-470f-b75c-b36741150479",
   "metadata": {
    "tags": []
   },
   "outputs": [
    {
     "name": "stdout",
     "output_type": "stream",
     "text": [
      "157/157 [==============================] - 2s 11ms/step\n"
     ]
    }
   ],
   "source": [
    "from sklearn.metrics import classification_report\n",
    "\n",
    "y_pred = CNN_LSTM_Model.predict(test_x)\n",
    "y_pred = np.argmax(y_pred, axis=1)"
   ]
  },
  {
   "cell_type": "code",
   "execution_count": null,
   "id": "d0875f7a-45e5-4823-befe-97293ccf0adb",
   "metadata": {
    "tags": []
   },
   "outputs": [],
   "source": [
    "categories = ['Human necessities', 'Performing_operations', 'Chemistry','Textiles','Fixed_constructions','Mechanical_engineering','Physics','Electricity','General']\n",
    "print(classification_report(test_y, y_pred,  target_names=categories))"
   ]
  },
  {
   "cell_type": "markdown",
   "id": "6a9994a2-14ba-499b-a765-ad13a1946877",
   "metadata": {
    "tags": []
   },
   "source": [
    "# LSTM"
   ]
  },
  {
   "cell_type": "code",
   "execution_count": null,
   "id": "93cd22d4-6fba-4222-8da9-c660b4f1e322",
   "metadata": {
    "tags": []
   },
   "outputs": [],
   "source": [
    "def rnn_lstm():\n",
    "    \n",
    "    model = Sequential()\n",
    "    model.add(embedding_layer)\n",
    "    model.add(LSTM(64))\n",
    "    model.add(Dense(32, activation=\"relu\"))\n",
    "    model.add(Dropout(0.25))\n",
    "    model.add(Dense(9, activation=\"softmax\"))\n",
    "    model.compile(loss = 'sparse_categorical_crossentropy', optimizer='adam', metrics = ['accuracy'])\n",
    "    \n",
    "    print(model.summary())\n",
    "    \n",
    "    return model"
   ]
  },
  {
   "cell_type": "code",
   "execution_count": null,
   "id": "7764d43e-3364-4539-bf70-6ef029fb145d",
   "metadata": {
    "tags": []
   },
   "outputs": [],
   "source": [
    "rnn_lstm = rnn_lstm()"
   ]
  },
  {
   "cell_type": "code",
   "execution_count": null,
   "id": "baf36f21-d410-4b7d-9b16-09d6e02b98d8",
   "metadata": {
    "tags": []
   },
   "outputs": [],
   "source": [
    "history_lstm = rnn_lstm.fit(train_x, train_y, batch_size=64, epochs=50, verbose=1, validation_data=(valid_x, valid_y))"
   ]
  },
  {
   "cell_type": "code",
   "execution_count": 62,
   "id": "e44fe403-8137-498d-b5f9-128ad8822c2f",
   "metadata": {
    "tags": []
   },
   "outputs": [
    {
     "name": "stdout",
     "output_type": "stream",
     "text": [
      "157/157 [==============================] - 1s 8ms/step\n"
     ]
    }
   ],
   "source": [
    "from sklearn.metrics import classification_report\n",
    "\n",
    "y_pred = rnn_lstm.predict(test_x)\n",
    "y_pred = np.argmax(y_pred, axis=1)"
   ]
  },
  {
   "cell_type": "code",
   "execution_count": null,
   "id": "d032d025-92a1-455b-82c8-fdaad1d54a26",
   "metadata": {
    "tags": []
   },
   "outputs": [],
   "source": [
    "categories = ['Human necessities', 'Performing_operations', 'Chemistry','Textiles','Fixed_constructions','Mechanical_engineering','Physics','Electricity','General']\n",
    "print(classification_report(test_y, y_pred,  target_names=categories))"
   ]
  },
  {
   "cell_type": "markdown",
   "id": "d72f4c1c-7726-43e9-b4da-62a54d64f785",
   "metadata": {
    "tags": []
   },
   "source": [
    "# Explaining Prediction"
   ]
  },
  {
   "cell_type": "code",
   "execution_count": 28,
   "id": "579c53bd-059a-49de-93ed-e90c593e7808",
   "metadata": {
    "tags": []
   },
   "outputs": [],
   "source": [
    "def get_layer_output(layer_name, data):\n",
    "    # https://keras.io/getting-started/faq/#how-can-i-obtain-the-output-of-an-intermediate-layer\n",
    "    intermediate_layer_model = keras.Model(inputs=model.input,\n",
    "                                     outputs=model.get_layer(layer_name).output)\n",
    "    return intermediate_layer_model.predict(data)  "
   ]
  },
  {
   "cell_type": "markdown",
   "id": "a99b61c2-9df7-45ea-b86e-d8bc749c1ab2",
   "metadata": {
    "tags": []
   },
   "source": [
    "# Different layer"
   ]
  },
  {
   "cell_type": "code",
   "execution_count": 29,
   "id": "caa1adb2-df83-4f8e-8707-d6c21db85b7a",
   "metadata": {
    "tags": []
   },
   "outputs": [
    {
     "name": "stdout",
     "output_type": "stream",
     "text": [
      "embedding/embeddings:0\n",
      "bidirectional/forward_lstm/lstm_cell_1/kernel:0\n",
      "bidirectional/forward_lstm/lstm_cell_1/recurrent_kernel:0\n",
      "bidirectional/forward_lstm/lstm_cell_1/bias:0\n",
      "bidirectional/backward_lstm/lstm_cell_2/kernel:0\n",
      "bidirectional/backward_lstm/lstm_cell_2/recurrent_kernel:0\n",
      "bidirectional/backward_lstm/lstm_cell_2/bias:0\n",
      "bidirectional_1/forward_lstm_1/lstm_cell_4/kernel:0\n",
      "bidirectional_1/forward_lstm_1/lstm_cell_4/recurrent_kernel:0\n",
      "bidirectional_1/forward_lstm_1/lstm_cell_4/bias:0\n",
      "bidirectional_1/backward_lstm_1/lstm_cell_5/kernel:0\n",
      "bidirectional_1/backward_lstm_1/lstm_cell_5/recurrent_kernel:0\n",
      "bidirectional_1/backward_lstm_1/lstm_cell_5/bias:0\n",
      "dense/kernel:0\n",
      "dense/bias:0\n",
      "dense_1/kernel:0\n",
      "dense_1/bias:0\n"
     ]
    }
   ],
   "source": [
    "names = [weight.name for layer in model.layers for weight in layer.weights]\n",
    "weights = model.get_weights()\n",
    "\n",
    "for name, weight in zip(names, weights):\n",
    "    print(name)\n",
    "    #print(weight)"
   ]
  },
  {
   "cell_type": "markdown",
   "id": "69de1298-4bb4-42ff-b9d1-2e0213982310",
   "metadata": {
    "tags": []
   },
   "source": [
    "# catching weight"
   ]
  },
  {
   "cell_type": "code",
   "execution_count": 30,
   "id": "ba03d821-c13e-4939-9527-2dc5d5a8b7bf",
   "metadata": {
    "tags": []
   },
   "outputs": [],
   "source": [
    "# suppress scientific notation\n",
    "np.set_printoptions(suppress=True)\n",
    "\n",
    "for name, weight in zip(names, weights):\n",
    "    if name == 'bidirectional/backward_lstm/lstm_cell_2/kernel:0':\n",
    "        kernel_0 = weight\n",
    "    if name == 'bidirectional/backward_lstm/lstm_cell_2/recurrent_kernel:0':\n",
    "        recurrent_kernel_0 = weight\n",
    "    if name == 'bidirectional/backward_lstm/lstm_cell_2/bias:0':\n",
    "        bias_0 = weight\n",
    "    elif name == 'dense/kernel:0':\n",
    "        output = weight\n",
    "\n"
   ]
  },
  {
   "cell_type": "code",
   "execution_count": 31,
   "id": "290b7718-85eb-44c2-acc8-8538de85b26c",
   "metadata": {
    "tags": []
   },
   "outputs": [
    {
     "name": "stdout",
     "output_type": "stream",
     "text": [
      "kernel_0 (300, 256)\n",
      "recurrent_kernel_0 (64, 256)\n",
      "bias_0 (256,)\n",
      "output (64, 128)\n"
     ]
    }
   ],
   "source": [
    "print(\"kernel_0\", kernel_0.shape)\n",
    "print(\"recurrent_kernel_0\", recurrent_kernel_0.shape)\n",
    "print(\"bias_0\", bias_0.shape)\n",
    "print(\"output\", output.shape)\n",
    "\n",
    "# self.Wxh_Left (240, 60)\n",
    "# self.Whh_Left (240, 60)\n",
    "# self.bxh_Left (240,)\n",
    "# self.Why_Left (5, 60)"
   ]
  },
  {
   "cell_type": "code",
   "execution_count": 32,
   "id": "66bc56cc-f2f7-4537-a197-b6180821c195",
   "metadata": {
    "tags": []
   },
   "outputs": [
    {
     "name": "stdout",
     "output_type": "stream",
     "text": [
      "Wxh (256, 300)\n",
      "Whh (256, 64)\n",
      "bxh (256,)\n",
      "Why (128, 64)\n"
     ]
    }
   ],
   "source": [
    "Wxh = kernel_0.T  # shape 4d*e\n",
    "Whh = recurrent_kernel_0.T  # shape 4d\n",
    "bxh = bias_0.T  # shape 4d \n",
    "Why = output.T\n",
    "\n",
    "print(\"Wxh\", Wxh.shape)\n",
    "print(\"Whh\", Whh.shape)\n",
    "print(\"bxh\", bxh.shape)\n",
    "print(\"Why\", Why.shape)"
   ]
  },
  {
   "cell_type": "markdown",
   "id": "2ed3f223-2c24-4638-878c-a49a04392a3f",
   "metadata": {
    "tags": []
   },
   "source": [
    "# Stop Words"
   ]
  },
  {
   "cell_type": "code",
   "execution_count": 33,
   "id": "bda0e2af-ae47-47a5-bda2-faad4fc12187",
   "metadata": {
    "tags": []
   },
   "outputs": [
    {
     "name": "stdout",
     "output_type": "stream",
     "text": [
      "hello\n"
     ]
    }
   ],
   "source": [
    "from nltk.corpus import stopwords\n",
    "stopword_set = set(stopwords.words(\"english\"))\n",
    "if 'on' in stopword_set:\n",
    "    print('hello')"
   ]
  },
  {
   "cell_type": "markdown",
   "id": "8ce1887c-6a6e-470c-b9cb-e94c22fe4c59",
   "metadata": {
    "tags": []
   },
   "source": [
    "# Dictionary to word cloud"
   ]
  },
  {
   "cell_type": "code",
   "execution_count": 86,
   "id": "a079977a-5b1c-4b77-b149-fce8da64362b",
   "metadata": {
    "tags": []
   },
   "outputs": [
    {
     "data": {
      "text/plain": [
       "'\\n    word_cloud = WordCloud(\\n        width=7000,\\n        height=3000,\\n        random_state=1,\\n        background_color=\"salmon\",\\n        colormap=\"Pastel1\",\\n        collocations=False,\\n        stopwords=STOPWORDS,\\n        ).generate_from_frequencies(dictionay)\\n    plt.imshow(word_cloud)\\n    plt.axis(\"off\")\\n    plt.show()\\n'"
      ]
     },
     "execution_count": 86,
     "metadata": {},
     "output_type": "execute_result"
    }
   ],
   "source": [
    "import pandas as pd\n",
    "import matplotlib.pyplot as plt\n",
    "from wordcloud import WordCloud, STOPWORDS\n",
    "def dictionary_word_to_score(words, scores):\n",
    "    #assert len(words)==len(scores)\n",
    "    max_s     = max(scores)\n",
    "    min_s     = min(scores)\n",
    "    \n",
    "    dictionay = {}\n",
    "    #print(len(words))\n",
    "    for idx, w in enumerate(words):\n",
    "        if w in stopword_set:\n",
    "            score = 0.5\n",
    "        else:\n",
    "            if idx < len(scores):\n",
    "                score = rescale_score_by_abs(scores[idx], max_s, min_s)\n",
    "        #output_text = output_text + span_word(w, score, colormap) + \" \"\n",
    "        if score > .50 :\n",
    "            if w in dictionay:\n",
    "                #print(w, \"  \", score)\n",
    "                if score > dictionay[w] :\n",
    "                    dictionay[w] = score*100\n",
    "            else:\n",
    "                dictionay[w] = score*100\n",
    "    print(dictionay)\n",
    "'''\n",
    "    word_cloud = WordCloud(\n",
    "        width=7000,\n",
    "        height=3000,\n",
    "        random_state=1,\n",
    "        background_color=\"salmon\",\n",
    "        colormap=\"Pastel1\",\n",
    "        collocations=False,\n",
    "        stopwords=STOPWORDS,\n",
    "        ).generate_from_frequencies(dictionay)\n",
    "    plt.imshow(word_cloud)\n",
    "    plt.axis(\"off\")\n",
    "    plt.show()\n",
    "'''  "
   ]
  },
  {
   "cell_type": "markdown",
   "id": "5040d570-e076-4e46-9189-94c85ae6196c",
   "metadata": {
    "tags": []
   },
   "source": [
    "# html heatmap"
   ]
  },
  {
   "cell_type": "code",
   "execution_count": 35,
   "id": "1a965b7c-eba3-4b3e-b9bb-a216fb798653",
   "metadata": {
    "tags": []
   },
   "outputs": [],
   "source": [
    "def html_heatmap (words, scores, cmap_name=\"bwr\"):\n",
    "    \"\"\"\n",
    "    Return word-level heatmap in HTML format,\n",
    "    with words being the list of words (as string),\n",
    "    scores the corresponding list of word-level relevance values,\n",
    "    and cmap_name the name of the matplotlib diverging colormap.\n",
    "    \"\"\"\n",
    "    \n",
    "    colormap  = plt.get_cmap(cmap_name)\n",
    "     \n",
    "    #assert len(words)==len(scores)\n",
    "    max_s     = max(scores)\n",
    "    min_s     = min(scores)\n",
    "    \n",
    "    output_text = \"\"\n",
    "    \n",
    "    for idx, w in enumerate(words):\n",
    "        if w in stopword_set:\n",
    "            score = 0.5\n",
    "        else:\n",
    "            score = rescale_score_by_abs(scores[idx], max_s, min_s)\n",
    "        output_text = output_text + span_word(w, score, colormap) + \" \"\n",
    "    \n",
    "    return output_text + \"\\n\"\n",
    "\n",
    "def rescale_score_by_abs (score, max_score, min_score):\n",
    "    \"\"\"\n",
    "    Normalize the relevance value (=score), accordingly to the extremal\n",
    "    relevance values (max_score and min_score), for visualization with a \n",
    "    diverging colormap. i.e. rescale positive relevance to the range \n",
    "    [0.5, 1.0], and negative relevance to the range [0.0, 0.5],\n",
    "    using the highest absolute relevance for linear interpolation.\n",
    "    \"\"\"\n",
    "    \n",
    "    # CASE 1: positive AND negative scores occur --------------------\n",
    "    if max_score>0 and min_score<0:\n",
    "    \n",
    "        if max_score >= abs(min_score):   # deepest color is positive\n",
    "            if score>=0:\n",
    "                return 0.5 + 0.5*(score/max_score)\n",
    "            else:\n",
    "                return 0.5 - 0.5*(abs(score)/max_score)\n",
    "\n",
    "        else:                             # deepest color is negative\n",
    "            if score>=0:\n",
    "                return 0.5 + 0.5*(score/abs(min_score))\n",
    "            else:\n",
    "                return 0.5 - 0.5*(score/min_score)   \n",
    "    \n",
    "    # CASE 2: ONLY positive scores occur -----------------------------       \n",
    "    elif max_score>0 and min_score>=0: \n",
    "        if max_score == min_score:\n",
    "            return 1.0\n",
    "        else:\n",
    "            return 0.5 + 0.5*(score/max_score)\n",
    "    \n",
    "    # CASE 3: ONLY negative scores occur -----------------------------\n",
    "    elif max_score<=0 and min_score<0: \n",
    "        if max_score == min_score:\n",
    "            return 0.0\n",
    "        else:\n",
    "            return 0.5 - 0.5*(score/min_score)\n",
    "          \n",
    "\n",
    "def getRGB (c_tuple):\n",
    "    return \"#%02x%02x%02x\"%(int(c_tuple[0]*255), int(c_tuple[1]*255), int(c_tuple[2]*255))\n",
    "\n",
    "     \n",
    "def span_word (word, score, colormap):\n",
    "    return \"<span style=\\\"background-color:\"+getRGB(colormap(score))+\"\\\">\"+word+\"</span>\""
   ]
  },
  {
   "cell_type": "markdown",
   "id": "09439357-bd58-4041-8238-29abfd37f278",
   "metadata": {
    "tags": []
   },
   "source": [
    "# Linear LRP"
   ]
  },
  {
   "cell_type": "code",
   "execution_count": 36,
   "id": "7c74b7f1-3b75-468a-b0a1-0bc6bff07546",
   "metadata": {
    "tags": []
   },
   "outputs": [],
   "source": [
    "def lrp_linear(hin, w, b, hout, Rout, bias_nb_units, eps, bias_factor=0.0, debug=False):\n",
    "    \"\"\"\n",
    "    LRP for a linear layer with input dim D and output dim M.\n",
    "    Args:\n",
    "    - hin:            forward pass input, of shape (D,)\n",
    "    - w:              connection weights, of shape (D, M)\n",
    "    - b:              biases, of shape (M,)\n",
    "    - hout:           forward pass output, of shape (M,) (unequal to np.dot(w.T,hin)+b if more than one incoming layer!)\n",
    "    - Rout:           relevance at layer output, of shape (M,)\n",
    "    - bias_nb_units:  total number of connected lower-layer units (onto which the bias/stabilizer contribution is redistributed for sanity check)\n",
    "    - eps:            stabilizer (small positive number)\n",
    "    - bias_factor:    set to 1.0 to check global relevance conservation, otherwise use 0.0 to ignore bias/stabilizer redistribution (recommended)\n",
    "    Returns:\n",
    "    - Rin:            relevance at layer input, of shape (D,)\n",
    "    \"\"\"\n",
    "    sign_out = np.where(hout[na,:]>=0, 1., -1.) # shape (1, M)\n",
    "    \n",
    "    numer    = (w * hin[:,na]) + ( bias_factor * (b[na,:]*1. + eps*sign_out*1.) / bias_nb_units ) # shape (D, M)\n",
    "    # Note: here we multiply the bias_factor with both the bias b and the stabilizer eps since in fact\n",
    "    # using the term (b[na,:]*1. + eps*sign_out*1.) / bias_nb_units in the numerator is only useful for sanity check\n",
    "    # (in the initial paper version we were using (bias_factor*b[na,:]*1. + eps*sign_out*1.) / bias_nb_units instead)\n",
    "    \n",
    "    denom    = hout[na,:] + (eps*sign_out*1.)   # shape (1, M)\n",
    "    \n",
    "    message  = (numer/denom) * Rout[na,:]       # shape (D, M)\n",
    "    \n",
    "    Rin      = message.sum(axis=1)              # shape (D,)\n",
    "    \n",
    "    if debug:\n",
    "        print(\"local diff: \", Rout.sum() - Rin.sum())\n",
    "    # Note: \n",
    "    # - local  layer   relevance conservation if bias_factor==1.0 and bias_nb_units==D (i.e. when only one incoming layer)\n",
    "    # - global network relevance conservation if bias_factor==1.0 and bias_nb_units set accordingly to the total number of lower-layer connections \n",
    "    # -> can be used for sanity check\n",
    "    \n",
    "    return Rin"
   ]
  },
  {
   "cell_type": "markdown",
   "id": "2aa731a2-2eea-4a78-ba34-159c810df07c",
   "metadata": {
    "tags": []
   },
   "source": [
    "# LRP"
   ]
  },
  {
   "cell_type": "code",
   "execution_count": 50,
   "id": "12d28cc9-19ef-45c7-be54-5c5cf54eae56",
   "metadata": {
    "tags": []
   },
   "outputs": [],
   "source": [
    "def LRP(target_data, target_class) :\n",
    "    \n",
    "    #원본 소스에서 E embedding은 전체에 대한 단어 사전이고, x는 embedding된 인풋이다.  \n",
    "    # w_indices [109, 11995, 25, 18263, 25, 973, 3138, 6389, 372]\n",
    "\n",
    "    x = get_layer_output('embedding', target_data)\n",
    "    e = x.shape[1]\n",
    "\n",
    "   ################# forword\n",
    "    T = target_data.shape[0]\n",
    "    d = int(256/4)  # hidden units\n",
    "    C = Why.shape[0] # number of classes\n",
    "    \n",
    "    idx    = np.hstack((np.arange(0,d), np.arange(2*d,4*d))).astype(int) # indices of gates i,f,o together\n",
    "    idx_i, idx_g, idx_f, idx_o = np.arange(0,d), np.arange(d,2*d), np.arange(2*d,3*d), np.arange(3*d,4*d) # indices of gates i,g,f,o separately\n",
    "\n",
    "    h  = np.zeros((T,d))\n",
    "    c  = np.zeros((T,d))\n",
    "\n",
    "    gates_xh  = np.zeros((T, 4*d))  \n",
    "    gates_hh  = np.zeros((T, 4*d)) \n",
    "    gates_pre = np.zeros((T, 4*d))  \n",
    "    gates     = np.zeros((T, 4*d))  \n",
    "\n",
    "    for t in range(T):\n",
    "        gates_xh[t]     = np.dot(Wxh, x[t])\n",
    "        gates_hh[t]     = np.dot(Whh, h[t-1])\n",
    "        gates_pre[t]    = gates_xh[t] + gates_hh[t] + bxh\n",
    "        gates[t, idx]    = 1.0/(1.0 + np.exp(- gates_pre[t,idx]))\n",
    "        gates[t,idx_g]  = np.tanh(gates_pre[t,idx_g]) \n",
    "        c[t]            = gates[t,idx_f]*c[t-1] + gates[t,idx_i]*gates[t,idx_g]\n",
    "        h[t]            = gates[t,idx_o]*np.tanh(c[t])\n",
    "\n",
    "    s = np.dot(Why, h[t])    \n",
    "\n",
    "    ################# backwork\n",
    "    dx     = np.zeros(x.shape)\n",
    "\n",
    "    dh          = np.zeros((T, d))\n",
    "    dc          = np.zeros((T, d))\n",
    "    dgates_pre  = np.zeros((T, 4*d))  # gates pre-activation\n",
    "    dgates      = np.zeros((T, 4*d))  # gates activation\n",
    "\n",
    "    ds               = np.zeros((C))\n",
    "    ds[target_class] = 1.0\n",
    "    dy               = ds.copy()\n",
    "\n",
    "    #맨처음을 0으로 시작하지 않게 위한조치\n",
    "    dh[T-1]     = np.dot(Why.T, dy)\n",
    "\n",
    "    for t in reversed(range(T)): \n",
    "        dgates[t,idx_o]    = dh[t] * np.tanh(c[t])  # do[t]\n",
    "        dc[t]             += dh[t] * gates[t,idx_o] * (1.-(np.tanh(c[t]))**2) # dc[t]\n",
    "        dgates[t,idx_f]    = dc[t] * c[t-1]         # df[t]\n",
    "        dc[t-1]            = dc[t] * gates[t,idx_f] # dc[t-1]\n",
    "        dgates[t,idx_i]    = dc[t] * gates[t,idx_g] # di[t]\n",
    "        dgates[t,idx_g]    = dc[t] * gates[t,idx_i] # dg[t]\n",
    "        dgates_pre[t,idx]  = dgates[t,idx] * gates[t,idx] * (1.0 - gates[t,idx]) # d ifo pre[t]\n",
    "        dgates_pre[t,idx_g]= dgates[t,idx_g] *  (1.-(gates[t,idx_g])**2) # d g pre[t]\n",
    "        dh[t-1]            = np.dot(Whh.T, dgates_pre[t])\n",
    "        dx[t]              = np.dot(Wxh.T, dgates_pre[t])\n",
    "\n",
    "    ################# LRP\n",
    "    eps=0.001 \n",
    "    bias_factor=0.0\n",
    "    Rx  = np.zeros(x.shape)\n",
    "    Rh  = np.zeros((T+1, d))\n",
    "    Rc  = np.zeros((T+1, d))\n",
    "    Rg  = np.zeros((T,   d)) # gate g only\n",
    "\n",
    "    Rout_mask            = np.zeros((C))\n",
    "    Rout_mask[target_class] = 1.0  \n",
    "\n",
    "    # format reminder: lrp_linear(hin, w, b, hout, Rout, bias_nb_units, eps, bias_factor)\n",
    "    Rh[T-1]  = lrp_linear(h[T-1], Why.T, np.zeros((C)), s, s*Rout_mask, 2*d, eps, bias_factor, debug=False)  \n",
    "\n",
    "    for t in reversed(range(T)):\n",
    "        Rc[t]   += Rh[t]\n",
    "        Rc[t-1]  = lrp_linear(gates[t,idx_f]*c[t-1], np.identity(d), np.zeros((d)), c[t], Rc[t], 2*d, eps, bias_factor, debug=False)\n",
    "        Rg[t]    = lrp_linear(gates[t,idx_i]*gates[t,idx_g], np.identity(d), np.zeros((d)), c[t], Rc[t], 2*d, eps, bias_factor, debug=False)\n",
    "        Rx[t]    = lrp_linear(x[t], Wxh[idx_g].T, bxh[idx_g], gates_pre[t,idx_g], Rg[t], d+e, eps, bias_factor, debug=False)\n",
    "        Rh[t-1]  = lrp_linear(h[t-1], Whh[idx_g].T, bxh[idx_g], gates_pre[t,idx_g], Rg[t], d+e, eps, bias_factor, debug=False)    \n",
    "\n",
    "    return s, dx, Rx, Rh[-1].sum()"
   ]
  },
  {
   "cell_type": "markdown",
   "id": "0615e898-584c-48e7-a6ce-f5013a5a6d7c",
   "metadata": {
    "tags": []
   },
   "source": [
    "# index to Word"
   ]
  },
  {
   "cell_type": "code",
   "execution_count": 38,
   "id": "6972f8e2-1a7f-403d-b24d-b48e0203a6ae",
   "metadata": {
    "tags": []
   },
   "outputs": [],
   "source": [
    "#word_index = imdb.get_word_index()\n",
    "index_word = {v:k for k,v in word_index.items()}\n",
    "\n",
    "#values = ','.join(str(v) for v in value_list)\n",
    "\n",
    "def index_to_word(word):\n",
    "    full_sentence = \"\"\n",
    "    for w in word:\n",
    "        if w != 0:\n",
    "            full_sentence = full_sentence + ' ' + index_word.get(w)\n",
    "    #print('word: ', word)\n",
    "    #full_sentence = ' '.join(index_word.get(w) for w in word)\n",
    "    return full_sentence.split()"
   ]
  },
  {
   "cell_type": "markdown",
   "id": "4028748e-a4e6-4714-becc-b5f2ccf5154d",
   "metadata": {
    "tags": []
   },
   "source": [
    "# Integer to String"
   ]
  },
  {
   "cell_type": "code",
   "execution_count": 39,
   "id": "165fc12d-1ead-40a6-84c5-08effa84e5a8",
   "metadata": {
    "tags": []
   },
   "outputs": [],
   "source": [
    "def int_to_str(target_class):\n",
    "    if target_class == 1:\n",
    "        return \"Human necessities\"\n",
    "    elif target_class == 2:\n",
    "        return \"Performing_operations\"\n",
    "    elif target_class == 3:\n",
    "        return \"Chemistry\"\n",
    "    elif target_class == 4:\n",
    "        return \"Textiles\"\n",
    "    elif target_class == 5:\n",
    "        return \"Fixed_constructions\"\n",
    "    elif target_class == 6:\n",
    "        return \"Mechanical_engineering\"\n",
    "    elif target_class == 7:\n",
    "        return \"Physics\"\n",
    "    elif target_class == 8:\n",
    "        return \"Electricity\"\n",
    "    elif target_class == 9:\n",
    "        return \"General\""
   ]
  },
  {
   "cell_type": "code",
   "execution_count": 71,
   "id": "cc06c81b-87d4-476f-9dce-c83097972957",
   "metadata": {
    "tags": []
   },
   "outputs": [
    {
     "name": "stdout",
     "output_type": "stream",
     "text": [
      "2125/2125 [==============================] - 67s 31ms/step\n"
     ]
    }
   ],
   "source": [
    "predictions = model.predict(train_x) #test_x"
   ]
  },
  {
   "cell_type": "markdown",
   "id": "fe856bc7-b99e-4abc-a0bc-637161ffd900",
   "metadata": {
    "tags": []
   },
   "source": [
    "# Class List"
   ]
  },
  {
   "cell_type": "code",
   "execution_count": 72,
   "id": "79102f06-e034-4b15-a3e9-e4f193d245f4",
   "metadata": {
    "tags": []
   },
   "outputs": [],
   "source": [
    "A_list = []\n",
    "B_list = []\n",
    "C_list = []\n",
    "D_list = []\n",
    "E_list = []\n",
    "F_list = []\n",
    "G_list = []\n",
    "H_list = []\n",
    "Y_list = []\n",
    "\n",
    "categories = ['Human necessities', 'Performing_operations', 'Chemistry','Textiles','Fixed_constructions','Mechanical_engineering','Physics','Electricity','General']\n",
    "\n",
    "for i in range(len(train_y)): #test_y\n",
    "    if np.argmax(predictions[i]) == 1:\n",
    "        A_list.append(i)\n",
    "    elif np.argmax(predictions[i]) == 2:\n",
    "        B_list.append(i)\n",
    "    elif np.argmax(predictions[i]) == 3:\n",
    "        C_list.append(i)\n",
    "    elif np.argmax(predictions[i]) == 4:\n",
    "        D_list.append(i)\n",
    "    elif np.argmax(predictions[i]) == 5:\n",
    "        E_list.append(i)\n",
    "    elif np.argmax(predictions[i]) == 6:\n",
    "        F_list.append(i)\n",
    "    elif np.argmax(predictions[i]) == 7:\n",
    "        G_list.append(i)\n",
    "    elif np.argmax(predictions[i]) == 8:\n",
    "        H_list.append(i)\n",
    "    elif np.argmax(predictions[i]) == 9:\n",
    "        Y_list.append(i)"
   ]
  },
  {
   "cell_type": "code",
   "execution_count": 42,
   "id": "a0ac453f-8680-4c77-85b6-6490c12a394f",
   "metadata": {
    "tags": []
   },
   "outputs": [
    {
     "name": "stdout",
     "output_type": "stream",
     "text": [
      "18119\n"
     ]
    }
   ],
   "source": [
    "print(len(A_list)+len(B_list)+len(C_list)+len(D_list)+len(E_list)+len(F_list)+len(G_list)+len(H_list)+len(Y_list))"
   ]
  },
  {
   "cell_type": "markdown",
   "id": "848cccb1-76d3-4d15-8030-48f752093dea",
   "metadata": {
    "tags": []
   },
   "source": [
    "# Sequence to Words"
   ]
  },
  {
   "cell_type": "code",
   "execution_count": 73,
   "id": "ae981530-d32c-4222-9fca-32db0ed9e54c",
   "metadata": {
    "tags": []
   },
   "outputs": [],
   "source": [
    "index_word = {v: k for k, v in word_index.items()} # map back\n",
    "seqs = train_x #test_x\n",
    "words = []\n",
    "\n",
    "def seqToWords():\n",
    "    for seq in seqs:\n",
    "        if len(seq):\n",
    "            words.append(index_word.get(seq[0]))\n",
    "        else:\n",
    "            words.append(' ')    \n",
    "            \n",
    "    return words"
   ]
  },
  {
   "cell_type": "code",
   "execution_count": 44,
   "id": "b940a5b0-97b3-4e8c-8581-4339e4ec1e9a",
   "metadata": {
    "tags": []
   },
   "outputs": [],
   "source": [
    "words = seqToWords()"
   ]
  },
  {
   "cell_type": "markdown",
   "id": "5303abb7-bec8-40db-834e-2b54738b8038",
   "metadata": {
    "tags": []
   },
   "source": [
    "# Sequence to Text"
   ]
  },
  {
   "cell_type": "code",
   "execution_count": 45,
   "id": "6f5ccd66-73c2-494b-9b19-e391cd444806",
   "metadata": {
    "tags": []
   },
   "outputs": [],
   "source": [
    "# Creating a reverse dictionary\n",
    "reverse_word_map = dict(map(reversed, word_index.items()))\n",
    "\n",
    "# Function takes a tokenized sentence and returns the words\n",
    "def sequence_to_text(list_of_indices):\n",
    "    # Looking up words in dictionary\n",
    "    words = [reverse_word_map.get(letter) for letter in list_of_indices]\n",
    "    \n",
    "    return words"
   ]
  },
  {
   "cell_type": "markdown",
   "id": "051551a5-bc3b-4b89-ae6d-bb8bee3f5d20",
   "metadata": {
    "jp-MarkdownHeadingCollapsed": true,
    "tags": []
   },
   "source": [
    "# Explainer Heatmap"
   ]
  },
  {
   "cell_type": "code",
   "execution_count": 87,
   "id": "13e97cf5-de72-4f4e-98d7-76b538d0224f",
   "metadata": {
    "tags": []
   },
   "outputs": [],
   "source": [
    "def explainer(class_list):   \n",
    "    for index, i in enumerate(class_list):\n",
    "        \n",
    "    \n",
    "        target_data = train_x[i] #test_x\n",
    "        #print(target_data)\n",
    "        #print(target_data.shape)\n",
    "        target_class = train_y[i]#test_y\n",
    "        #print(\"Target Class: \", target_class)\n",
    "        \n",
    "        #if np.argmax(predictions[i]) != target_class:\n",
    "         #   continue\n",
    "\n",
    "        scores, Gx, Rx, R_rest = LRP(target_data, target_class)\n",
    "    \n",
    "        R_words          = np.sum(Rx, axis=1)                       # compute word-level LRP relevances\n",
    "        R_words_SA       = (np.linalg.norm(Gx,ord=2, axis=0))**2   # compute word-level Sensitivity Analysis relevances\n",
    "        R_words_GI       = np.dot(target_data, Gx) \n",
    "    \n",
    "        words = index_to_word(target_data)\n",
    "        '''\n",
    "        try:\n",
    "            words = index_to_word(target_data)\n",
    "            #continue\n",
    "        #words = seqToWords()\n",
    "        except:\n",
    "            continue\n",
    "        '''\n",
    "        if len(words) > 0 :\n",
    "            \n",
    "            print(\"Predicted label:\", int_to_str(np.argmax(predictions[i])), \"Actual label:\", int_to_str(target_class))\n",
    "\n",
    "            print(\"LRP heatmap:\")\n",
    "            display(HTML(html_heatmap(words, R_words)))\n",
    "\n",
    "            print(\"SA heatmap:\")\n",
    "            display(HTML(html_heatmap(words, R_words_SA)))\n",
    "\n",
    "            print(\"GI heatmap:\")\n",
    "            display(HTML(html_heatmap(words, R_words_GI)))\n",
    "            \n",
    "            print(\"Word Cloud\")\n",
    "            dictionary_word_to_score(words, R_words_SA)\n",
    "\n",
    "            print(\"-----------------------------------------------------------\")\n"
   ]
  },
  {
   "cell_type": "markdown",
   "id": "ddf7abc4-d91e-4acd-8da3-d071fabc88c5",
   "metadata": {
    "tags": []
   },
   "source": [
    "# Explainer Word Count"
   ]
  },
  {
   "cell_type": "code",
   "execution_count": 47,
   "id": "836c27ca-715c-489f-a7f0-33157d705ecf",
   "metadata": {
    "tags": []
   },
   "outputs": [],
   "source": [
    "def explainer_word_cloud(class_list):   \n",
    "    for index, i in enumerate(class_list):\n",
    "    \n",
    "        target_data = test_x[i]\n",
    "        #print(target_data)\n",
    "        #print(target_data.shape)\n",
    "        target_class = np.argmax(test_y[i])\n",
    "\n",
    "        scores, Gx, Rx, R_rest = LRP(target_data, target_class)\n",
    "    \n",
    "        R_words          = np.sum(Rx, axis=1)                       # compute word-level LRP relevances\n",
    "        R_words_SA       = (np.linalg.norm(Gx,ord=2, axis=0))**2   # compute word-level Sensitivity Analysis relevances\n",
    "        R_words_GI       = np.dot(target_data, Gx) \n",
    "    \n",
    "        words = index_to_word(target_data)\n",
    "        '''\n",
    "        try:\n",
    "            words = index_to_word(target_data)\n",
    "            print(len(words))\n",
    "            #continue\n",
    "        #words = seqToWords()\n",
    "        except:\n",
    "            continue\n",
    "        '''\n",
    "        if len(words) > 0 :\n",
    "            print(\"Predicted label:\", int_to_str(np.argmax(predictions[i])), \"Actual label:\", int_to_str(target_class))\n",
    "\n",
    "            print(\"Word Cloud\")\n",
    "            print(\"-----------------------------------------------------------\")\n",
    "            dictionary_word_to_score(words, scores)\n",
    "\n",
    "            print(\"-----------------------------------------------------------\")"
   ]
  },
  {
   "cell_type": "code",
   "execution_count": 80,
   "id": "c596beb4-8ec4-4e9a-b8d8-ee3318d03922",
   "metadata": {
    "tags": []
   },
   "outputs": [
    {
     "name": "stdout",
     "output_type": "stream",
     "text": [
      "7147\n"
     ]
    }
   ],
   "source": [
    "print(len(H_list))"
   ]
  },
  {
   "cell_type": "markdown",
   "id": "dd0b0b9b-07c4-404a-a331-6b0d233d6f03",
   "metadata": {
    "tags": []
   },
   "source": [
    "# Chemistry Example Explanation"
   ]
  },
  {
   "cell_type": "code",
   "execution_count": null,
   "id": "c752eb5c-2992-463d-9441-971975312e7e",
   "metadata": {
    "tags": []
   },
   "outputs": [],
   "source": [
    "print(\"The degree to which each word affects the prediction of class C\")\n",
    "explainer(C_list)"
   ]
  }
 ],
 "metadata": {
  "kernelspec": {
   "display_name": "Python 3 (ipykernel)",
   "language": "python",
   "name": "python3"
  },
  "language_info": {
   "codemirror_mode": {
    "name": "ipython",
    "version": 3
   },
   "file_extension": ".py",
   "mimetype": "text/x-python",
   "name": "python",
   "nbconvert_exporter": "python",
   "pygments_lexer": "ipython3",
   "version": "3.8.10"
  }
 },
 "nbformat": 4,
 "nbformat_minor": 5
}
